{
    "cells": [
        {
            "attachments": {},
            "cell_type": "markdown",
            "metadata": {},
            "source": [
                "# Clean Custom Dataset\n",
                "You will now your clean your own dataset. Use the custom dataset you found in Lab 2.\n",
                "\n",
                "---\n",
                "\n",
                "## Collecting the Data \n",
                "\n",
                "Let's start by importing our libraries. \n"
            ]
        },
        {
            "cell_type": "code",
            "execution_count": 81,
            "metadata": {},
            "outputs": [],
            "source": [
                "import pandas as pd # data processing, CSV file I/O (e.g. pd.read_csv)\n",
                "\n",
                "# TODO:: Import any other libraries you may need \n"
            ]
        },
        {
            "attachments": {},
            "cell_type": "markdown",
            "metadata": {},
            "source": [
                "Load your dataset into your workspace by *right-clicking* the CustomDataset Folder on the left hand side and clicking \"*Upload Here...*\". If done properly, you should see your csv file within the CustomDataset folder, similar to the ExampleDatasets folder. \n",
                "\n",
                "Load your csv file into a pandas dataframe. "
            ]
        },
        {
            "cell_type": "code",
            "execution_count": 82,
            "metadata": {},
            "outputs": [],
            "source": [
                "# TODO:: load your .csv dataset into a dataframe\n",
                "df = pd.read_csv(\"WorldHappiness_Corruption_2015_2020.csv\")"
            ]
        },
        {
            "attachments": {},
            "cell_type": "markdown",
            "metadata": {},
            "source": [
                "\n",
                "\n",
                "---\n",
                "\n",
                "\n",
                "## Examine the Data"
            ]
        },
        {
            "attachments": {},
            "cell_type": "markdown",
            "metadata": {},
            "source": [
                "Let's use the *head* function to observe our data. "
            ]
        },
        {
            "cell_type": "code",
            "execution_count": 83,
            "metadata": {},
            "outputs": [
                {
                    "data": {
                        "text/html": [
                            "<div>\n",
                            "<style scoped>\n",
                            "    .dataframe tbody tr th:only-of-type {\n",
                            "        vertical-align: middle;\n",
                            "    }\n",
                            "\n",
                            "    .dataframe tbody tr th {\n",
                            "        vertical-align: top;\n",
                            "    }\n",
                            "\n",
                            "    .dataframe thead th {\n",
                            "        text-align: right;\n",
                            "    }\n",
                            "</style>\n",
                            "<table border=\"1\" class=\"dataframe\">\n",
                            "  <thead>\n",
                            "    <tr style=\"text-align: right;\">\n",
                            "      <th></th>\n",
                            "      <th>Country</th>\n",
                            "      <th>happiness_score</th>\n",
                            "      <th>gdp_per_capita</th>\n",
                            "      <th>family</th>\n",
                            "      <th>health</th>\n",
                            "      <th>freedom</th>\n",
                            "      <th>generosity</th>\n",
                            "      <th>government_trust</th>\n",
                            "      <th>dystopia_residual</th>\n",
                            "      <th>continent</th>\n",
                            "      <th>Year</th>\n",
                            "      <th>social_support</th>\n",
                            "      <th>cpi_score</th>\n",
                            "    </tr>\n",
                            "  </thead>\n",
                            "  <tbody>\n",
                            "    <tr>\n",
                            "      <th>0</th>\n",
                            "      <td>Norway</td>\n",
                            "      <td>7.537</td>\n",
                            "      <td>1.616463</td>\n",
                            "      <td>1.533524</td>\n",
                            "      <td>0.796667</td>\n",
                            "      <td>0.635423</td>\n",
                            "      <td>0.362012</td>\n",
                            "      <td>0.315964</td>\n",
                            "      <td>2.277027</td>\n",
                            "      <td>Europe</td>\n",
                            "      <td>2015</td>\n",
                            "      <td>0.0</td>\n",
                            "      <td>88</td>\n",
                            "    </tr>\n",
                            "    <tr>\n",
                            "      <th>1</th>\n",
                            "      <td>Denmark</td>\n",
                            "      <td>7.522</td>\n",
                            "      <td>1.482383</td>\n",
                            "      <td>1.551122</td>\n",
                            "      <td>0.792566</td>\n",
                            "      <td>0.626007</td>\n",
                            "      <td>0.355280</td>\n",
                            "      <td>0.400770</td>\n",
                            "      <td>2.313707</td>\n",
                            "      <td>Europe</td>\n",
                            "      <td>2015</td>\n",
                            "      <td>0.0</td>\n",
                            "      <td>91</td>\n",
                            "    </tr>\n",
                            "    <tr>\n",
                            "      <th>2</th>\n",
                            "      <td>Iceland</td>\n",
                            "      <td>7.504</td>\n",
                            "      <td>1.480633</td>\n",
                            "      <td>1.610574</td>\n",
                            "      <td>0.833552</td>\n",
                            "      <td>0.627163</td>\n",
                            "      <td>0.475540</td>\n",
                            "      <td>0.153527</td>\n",
                            "      <td>2.322715</td>\n",
                            "      <td>Europe</td>\n",
                            "      <td>2015</td>\n",
                            "      <td>0.0</td>\n",
                            "      <td>79</td>\n",
                            "    </tr>\n",
                            "    <tr>\n",
                            "      <th>3</th>\n",
                            "      <td>Switzerland</td>\n",
                            "      <td>7.494</td>\n",
                            "      <td>1.564980</td>\n",
                            "      <td>1.516912</td>\n",
                            "      <td>0.858131</td>\n",
                            "      <td>0.620071</td>\n",
                            "      <td>0.290549</td>\n",
                            "      <td>0.367007</td>\n",
                            "      <td>2.276716</td>\n",
                            "      <td>Europe</td>\n",
                            "      <td>2015</td>\n",
                            "      <td>0.0</td>\n",
                            "      <td>86</td>\n",
                            "    </tr>\n",
                            "    <tr>\n",
                            "      <th>4</th>\n",
                            "      <td>Finland</td>\n",
                            "      <td>7.469</td>\n",
                            "      <td>1.443572</td>\n",
                            "      <td>1.540247</td>\n",
                            "      <td>0.809158</td>\n",
                            "      <td>0.617951</td>\n",
                            "      <td>0.245483</td>\n",
                            "      <td>0.382612</td>\n",
                            "      <td>2.430182</td>\n",
                            "      <td>Europe</td>\n",
                            "      <td>2015</td>\n",
                            "      <td>0.0</td>\n",
                            "      <td>90</td>\n",
                            "    </tr>\n",
                            "  </tbody>\n",
                            "</table>\n",
                            "</div>"
                        ],
                        "text/plain": [
                            "       Country  happiness_score  gdp_per_capita    family    health   freedom  \\\n",
                            "0       Norway            7.537        1.616463  1.533524  0.796667  0.635423   \n",
                            "1      Denmark            7.522        1.482383  1.551122  0.792566  0.626007   \n",
                            "2      Iceland            7.504        1.480633  1.610574  0.833552  0.627163   \n",
                            "3  Switzerland            7.494        1.564980  1.516912  0.858131  0.620071   \n",
                            "4      Finland            7.469        1.443572  1.540247  0.809158  0.617951   \n",
                            "\n",
                            "   generosity  government_trust  dystopia_residual continent  Year  \\\n",
                            "0    0.362012          0.315964           2.277027    Europe  2015   \n",
                            "1    0.355280          0.400770           2.313707    Europe  2015   \n",
                            "2    0.475540          0.153527           2.322715    Europe  2015   \n",
                            "3    0.290549          0.367007           2.276716    Europe  2015   \n",
                            "4    0.245483          0.382612           2.430182    Europe  2015   \n",
                            "\n",
                            "   social_support  cpi_score  \n",
                            "0             0.0         88  \n",
                            "1             0.0         91  \n",
                            "2             0.0         79  \n",
                            "3             0.0         86  \n",
                            "4             0.0         90  "
                        ]
                    },
                    "execution_count": 83,
                    "metadata": {},
                    "output_type": "execute_result"
                }
            ],
            "source": [
                "# TODO:: Use the head function to observe the first five lines of the dataframe\n",
                "df.head()"
            ]
        },
        {
            "attachments": {},
            "cell_type": "markdown",
            "metadata": {},
            "source": [
                "Now, let's take a look at how large our dataset is. We'll do this using the shape attribute of the dataframe. The tuple consists of (row, columns). "
            ]
        },
        {
            "cell_type": "code",
            "execution_count": 84,
            "metadata": {},
            "outputs": [
                {
                    "data": {
                        "text/plain": [
                            "(792, 13)"
                        ]
                    },
                    "execution_count": 84,
                    "metadata": {},
                    "output_type": "execute_result"
                }
            ],
            "source": [
                "# TODO:: Use the shape member variable to observe the shape of our dataset. \n",
                "df.shape"
            ]
        },
        {
            "attachments": {},
            "cell_type": "markdown",
            "metadata": {},
            "source": [
                "***Checkpoint***: How many rows does our data have? How many columns does our data have? "
            ]
        },
        {
            "attachments": {},
            "cell_type": "markdown",
            "metadata": {},
            "source": [
                "792 rows, 13 columns"
            ]
        },
        {
            "attachments": {},
            "cell_type": "markdown",
            "metadata": {},
            "source": [
                "Now, let's get a summary of the dataframe so we can see if we have any null values in our dataframe. "
            ]
        },
        {
            "cell_type": "code",
            "execution_count": 85,
            "metadata": {},
            "outputs": [
                {
                    "name": "stdout",
                    "output_type": "stream",
                    "text": [
                        "<class 'pandas.core.frame.DataFrame'>\n",
                        "RangeIndex: 792 entries, 0 to 791\n",
                        "Data columns (total 13 columns):\n",
                        " #   Column             Non-Null Count  Dtype  \n",
                        "---  ------             --------------  -----  \n",
                        " 0   Country            792 non-null    object \n",
                        " 1   happiness_score    792 non-null    float64\n",
                        " 2   gdp_per_capita     792 non-null    float64\n",
                        " 3   family             792 non-null    float64\n",
                        " 4   health             792 non-null    float64\n",
                        " 5   freedom            792 non-null    float64\n",
                        " 6   generosity         792 non-null    float64\n",
                        " 7   government_trust   792 non-null    float64\n",
                        " 8   dystopia_residual  792 non-null    float64\n",
                        " 9   continent          792 non-null    object \n",
                        " 10  Year               792 non-null    int64  \n",
                        " 11  social_support     792 non-null    float64\n",
                        " 12  cpi_score          792 non-null    int64  \n",
                        "dtypes: float64(9), int64(2), object(2)\n",
                        "memory usage: 80.6+ KB\n"
                    ]
                }
            ],
            "source": [
                "# TODO:: See a summary of the data to check for null values\n",
                "df.info()"
            ]
        },
        {
            "attachments": {},
            "cell_type": "markdown",
            "metadata": {},
            "source": [
                "Let's find how many missing values we have in each column of our data. "
            ]
        },
        {
            "cell_type": "code",
            "execution_count": 86,
            "metadata": {},
            "outputs": [
                {
                    "data": {
                        "text/plain": [
                            "Country              0\n",
                            "happiness_score      0\n",
                            "gdp_per_capita       0\n",
                            "family               0\n",
                            "health               0\n",
                            "freedom              0\n",
                            "generosity           0\n",
                            "government_trust     0\n",
                            "dystopia_residual    0\n",
                            "continent            0\n",
                            "Year                 0\n",
                            "social_support       0\n",
                            "cpi_score            0\n",
                            "dtype: int64"
                        ]
                    },
                    "execution_count": 86,
                    "metadata": {},
                    "output_type": "execute_result"
                }
            ],
            "source": [
                "# TODO:: Check for missing values\n",
                "df.isnull().sum()"
            ]
        },
        {
            "attachments": {},
            "cell_type": "markdown",
            "metadata": {},
            "source": [
                "\n",
                "\n",
                "---\n",
                "\n",
                "\n",
                "\n",
                "## Clean the Data"
            ]
        },
        {
            "attachments": {},
            "cell_type": "markdown",
            "metadata": {},
            "source": [
                "Are there any redundant columns in your dataset? Are there any columns you would like to remove? If so, go ahead and drop those columns. \n",
                "\n",
                "When we drop columns, we drop them based on their label. The *drop* function additionally takes two parameters. The first is the axis. When we set axis=0, we drop the columns based on their column index. This can be tricky and lead to errors, so we instead like to drop columns using their labels. We can do this by setting axis=1. The second parameter is inplace. When inplace=true, the dataframe is directly modified. When inplace=false, the modified dataframe is returned as a copy. For the purpose of this class, we'll be using inplace=true. However, if you ever need a copy of your modified dataframe, you could use inplace=false. "
            ]
        },
        {
            "cell_type": "code",
            "execution_count": 87,
            "metadata": {},
            "outputs": [],
            "source": [
                "# TODO:: Drop any redundant columns from your data\n",
                "#even though there is no null data but the social support column has all 0s data\n",
                "#it will not be beneficial to our data modeling --> drop it\n",
                "df.drop(['social_support'], axis = 1, inplace = True)"
            ]
        },
        {
            "attachments": {},
            "cell_type": "markdown",
            "metadata": {},
            "source": [
                "We can check that these columns have been dropped by taking a look at the column labels we have left. Use the *columns* member variable to see what column labels exist in our dataframe. "
            ]
        },
        {
            "cell_type": "code",
            "execution_count": 88,
            "metadata": {},
            "outputs": [
                {
                    "data": {
                        "text/plain": [
                            "Index(['Country', 'happiness_score', 'gdp_per_capita', 'family', 'health',\n",
                            "       'freedom', 'generosity', 'government_trust', 'dystopia_residual',\n",
                            "       'continent', 'Year', 'cpi_score'],\n",
                            "      dtype='object')"
                        ]
                    },
                    "execution_count": 88,
                    "metadata": {},
                    "output_type": "execute_result"
                }
            ],
            "source": [
                "# TODO: View which column labels remain in the dataframe\n",
                "df.columns"
            ]
        },
        {
            "attachments": {},
            "cell_type": "markdown",
            "metadata": {},
            "source": [
                "Let's check the dataframe summary again using the *info* function. "
            ]
        },
        {
            "cell_type": "code",
            "execution_count": 89,
            "metadata": {},
            "outputs": [
                {
                    "name": "stdout",
                    "output_type": "stream",
                    "text": [
                        "<class 'pandas.core.frame.DataFrame'>\n",
                        "RangeIndex: 792 entries, 0 to 791\n",
                        "Data columns (total 12 columns):\n",
                        " #   Column             Non-Null Count  Dtype  \n",
                        "---  ------             --------------  -----  \n",
                        " 0   Country            792 non-null    object \n",
                        " 1   happiness_score    792 non-null    float64\n",
                        " 2   gdp_per_capita     792 non-null    float64\n",
                        " 3   family             792 non-null    float64\n",
                        " 4   health             792 non-null    float64\n",
                        " 5   freedom            792 non-null    float64\n",
                        " 6   generosity         792 non-null    float64\n",
                        " 7   government_trust   792 non-null    float64\n",
                        " 8   dystopia_residual  792 non-null    float64\n",
                        " 9   continent          792 non-null    object \n",
                        " 10  Year               792 non-null    int64  \n",
                        " 11  cpi_score          792 non-null    int64  \n",
                        "dtypes: float64(8), int64(2), object(2)\n",
                        "memory usage: 74.4+ KB\n"
                    ]
                }
            ],
            "source": [
                "# TODO:: Check the summary again to see if there are any redundant columns remaining\n",
                "df.info()"
            ]
        },
        {
            "attachments": {},
            "cell_type": "markdown",
            "metadata": {},
            "source": [
                "Lastly, we can inspect the statistical information (e.g. mean, median, mode, etc.) of our dataset using the *describe* function. "
            ]
        },
        {
            "cell_type": "code",
            "execution_count": 90,
            "metadata": {},
            "outputs": [
                {
                    "data": {
                        "text/html": [
                            "<div>\n",
                            "<style scoped>\n",
                            "    .dataframe tbody tr th:only-of-type {\n",
                            "        vertical-align: middle;\n",
                            "    }\n",
                            "\n",
                            "    .dataframe tbody tr th {\n",
                            "        vertical-align: top;\n",
                            "    }\n",
                            "\n",
                            "    .dataframe thead th {\n",
                            "        text-align: right;\n",
                            "    }\n",
                            "</style>\n",
                            "<table border=\"1\" class=\"dataframe\">\n",
                            "  <thead>\n",
                            "    <tr style=\"text-align: right;\">\n",
                            "      <th></th>\n",
                            "      <th>happiness_score</th>\n",
                            "      <th>gdp_per_capita</th>\n",
                            "      <th>family</th>\n",
                            "      <th>health</th>\n",
                            "      <th>freedom</th>\n",
                            "      <th>generosity</th>\n",
                            "      <th>government_trust</th>\n",
                            "      <th>dystopia_residual</th>\n",
                            "      <th>Year</th>\n",
                            "      <th>cpi_score</th>\n",
                            "    </tr>\n",
                            "  </thead>\n",
                            "  <tbody>\n",
                            "    <tr>\n",
                            "      <th>count</th>\n",
                            "      <td>792.000000</td>\n",
                            "      <td>792.000000</td>\n",
                            "      <td>792.000000</td>\n",
                            "      <td>792.000000</td>\n",
                            "      <td>792.000000</td>\n",
                            "      <td>792.000000</td>\n",
                            "      <td>792.000000</td>\n",
                            "      <td>792.000000</td>\n",
                            "      <td>792.000000</td>\n",
                            "      <td>792.000000</td>\n",
                            "    </tr>\n",
                            "    <tr>\n",
                            "      <th>mean</th>\n",
                            "      <td>5.473310</td>\n",
                            "      <td>0.929217</td>\n",
                            "      <td>0.504998</td>\n",
                            "      <td>0.648691</td>\n",
                            "      <td>0.427016</td>\n",
                            "      <td>0.212440</td>\n",
                            "      <td>0.125720</td>\n",
                            "      <td>1.379277</td>\n",
                            "      <td>2017.500000</td>\n",
                            "      <td>44.327020</td>\n",
                            "    </tr>\n",
                            "    <tr>\n",
                            "      <th>std</th>\n",
                            "      <td>1.124726</td>\n",
                            "      <td>0.385774</td>\n",
                            "      <td>0.552736</td>\n",
                            "      <td>0.232261</td>\n",
                            "      <td>0.148003</td>\n",
                            "      <td>0.121660</td>\n",
                            "      <td>0.109032</td>\n",
                            "      <td>1.075276</td>\n",
                            "      <td>1.708904</td>\n",
                            "      <td>19.508833</td>\n",
                            "    </tr>\n",
                            "    <tr>\n",
                            "      <th>min</th>\n",
                            "      <td>2.566900</td>\n",
                            "      <td>0.000000</td>\n",
                            "      <td>0.000000</td>\n",
                            "      <td>0.000000</td>\n",
                            "      <td>0.000000</td>\n",
                            "      <td>0.000000</td>\n",
                            "      <td>0.000000</td>\n",
                            "      <td>0.000000</td>\n",
                            "      <td>2015.000000</td>\n",
                            "      <td>11.000000</td>\n",
                            "    </tr>\n",
                            "    <tr>\n",
                            "      <th>25%</th>\n",
                            "      <td>4.590750</td>\n",
                            "      <td>0.644242</td>\n",
                            "      <td>0.000000</td>\n",
                            "      <td>0.510070</td>\n",
                            "      <td>0.325433</td>\n",
                            "      <td>0.125784</td>\n",
                            "      <td>0.052862</td>\n",
                            "      <td>0.000000</td>\n",
                            "      <td>2016.000000</td>\n",
                            "      <td>30.000000</td>\n",
                            "    </tr>\n",
                            "    <tr>\n",
                            "      <th>50%</th>\n",
                            "      <td>5.485500</td>\n",
                            "      <td>0.994544</td>\n",
                            "      <td>0.000000</td>\n",
                            "      <td>0.685397</td>\n",
                            "      <td>0.439621</td>\n",
                            "      <td>0.197000</td>\n",
                            "      <td>0.089000</td>\n",
                            "      <td>1.731948</td>\n",
                            "      <td>2017.500000</td>\n",
                            "      <td>38.000000</td>\n",
                            "    </tr>\n",
                            "    <tr>\n",
                            "      <th>75%</th>\n",
                            "      <td>6.300500</td>\n",
                            "      <td>1.228677</td>\n",
                            "      <td>1.040410</td>\n",
                            "      <td>0.815641</td>\n",
                            "      <td>0.546280</td>\n",
                            "      <td>0.273250</td>\n",
                            "      <td>0.154250</td>\n",
                            "      <td>2.236894</td>\n",
                            "      <td>2019.000000</td>\n",
                            "      <td>57.000000</td>\n",
                            "    </tr>\n",
                            "    <tr>\n",
                            "      <th>max</th>\n",
                            "      <td>7.808700</td>\n",
                            "      <td>2.096000</td>\n",
                            "      <td>1.610574</td>\n",
                            "      <td>1.141000</td>\n",
                            "      <td>0.724000</td>\n",
                            "      <td>0.838075</td>\n",
                            "      <td>0.551910</td>\n",
                            "      <td>3.602140</td>\n",
                            "      <td>2020.000000</td>\n",
                            "      <td>91.000000</td>\n",
                            "    </tr>\n",
                            "  </tbody>\n",
                            "</table>\n",
                            "</div>"
                        ],
                        "text/plain": [
                            "       happiness_score  gdp_per_capita      family      health     freedom  \\\n",
                            "count       792.000000      792.000000  792.000000  792.000000  792.000000   \n",
                            "mean          5.473310        0.929217    0.504998    0.648691    0.427016   \n",
                            "std           1.124726        0.385774    0.552736    0.232261    0.148003   \n",
                            "min           2.566900        0.000000    0.000000    0.000000    0.000000   \n",
                            "25%           4.590750        0.644242    0.000000    0.510070    0.325433   \n",
                            "50%           5.485500        0.994544    0.000000    0.685397    0.439621   \n",
                            "75%           6.300500        1.228677    1.040410    0.815641    0.546280   \n",
                            "max           7.808700        2.096000    1.610574    1.141000    0.724000   \n",
                            "\n",
                            "       generosity  government_trust  dystopia_residual         Year  \\\n",
                            "count  792.000000        792.000000         792.000000   792.000000   \n",
                            "mean     0.212440          0.125720           1.379277  2017.500000   \n",
                            "std      0.121660          0.109032           1.075276     1.708904   \n",
                            "min      0.000000          0.000000           0.000000  2015.000000   \n",
                            "25%      0.125784          0.052862           0.000000  2016.000000   \n",
                            "50%      0.197000          0.089000           1.731948  2017.500000   \n",
                            "75%      0.273250          0.154250           2.236894  2019.000000   \n",
                            "max      0.838075          0.551910           3.602140  2020.000000   \n",
                            "\n",
                            "        cpi_score  \n",
                            "count  792.000000  \n",
                            "mean    44.327020  \n",
                            "std     19.508833  \n",
                            "min     11.000000  \n",
                            "25%     30.000000  \n",
                            "50%     38.000000  \n",
                            "75%     57.000000  \n",
                            "max     91.000000  "
                        ]
                    },
                    "execution_count": 90,
                    "metadata": {},
                    "output_type": "execute_result"
                }
            ],
            "source": [
                "# TODO:: Inspect statistical information about the data set \n",
                "df.describe()"
            ]
        },
        {
            "attachments": {},
            "cell_type": "markdown",
            "metadata": {},
            "source": [
                "Observe the labels for any categorical data that may exist in your dataset. Determine how many unique labels there are and if you need to drop any columns. "
            ]
        },
        {
            "cell_type": "code",
            "execution_count": 91,
            "metadata": {},
            "outputs": [
                {
                    "data": {
                        "text/plain": [
                            "0           Norway\n",
                            "1          Denmark\n",
                            "2          Iceland\n",
                            "3      Switzerland\n",
                            "4          Finland\n",
                            "          ...     \n",
                            "787       Botswana\n",
                            "788       Tanzania\n",
                            "789         Rwanda\n",
                            "790       Zimbabwe\n",
                            "791    Afghanistan\n",
                            "Name: Country, Length: 792, dtype: object"
                        ]
                    },
                    "execution_count": 91,
                    "metadata": {},
                    "output_type": "execute_result"
                }
            ],
            "source": [
                "# TODO::View the labels for any categorical variable\n",
                "df.Country"
            ]
        },
        {
            "cell_type": "code",
            "execution_count": 92,
            "metadata": {},
            "outputs": [
                {
                    "data": {
                        "text/plain": [
                            "0      Europe\n",
                            "1      Europe\n",
                            "2      Europe\n",
                            "3      Europe\n",
                            "4      Europe\n",
                            "        ...  \n",
                            "787    Africa\n",
                            "788    Africa\n",
                            "789    Africa\n",
                            "790    Africa\n",
                            "791      Asia\n",
                            "Name: continent, Length: 792, dtype: object"
                        ]
                    },
                    "execution_count": 92,
                    "metadata": {},
                    "output_type": "execute_result"
                }
            ],
            "source": [
                "df.continent"
            ]
        },
        {
            "cell_type": "code",
            "execution_count": 93,
            "metadata": {},
            "outputs": [
                {
                    "data": {
                        "text/plain": [
                            "{'Country', 'continent'}"
                        ]
                    },
                    "execution_count": 93,
                    "metadata": {},
                    "output_type": "execute_result"
                }
            ],
            "source": [
                "# TODO:: View how many different labels there are for the categorical variable\n",
                "num_cols = df._get_numeric_data().columns\n",
                "set(df.columns) - set(num_cols)"
            ]
        },
        {
            "attachments": {},
            "cell_type": "markdown",
            "metadata": {},
            "source": [
                "Are there any columns you would like to drop? If so, follow the next steps to further clean your dataset. "
            ]
        },
        {
            "cell_type": "code",
            "execution_count": 94,
            "metadata": {},
            "outputs": [],
            "source": [
                "# TODO:: Write code to drop any additional columns\n",
                "#I don't want to drop any other column"
            ]
        },
        {
            "cell_type": "code",
            "execution_count": 95,
            "metadata": {},
            "outputs": [
                {
                    "name": "stdout",
                    "output_type": "stream",
                    "text": [
                        "<class 'pandas.core.frame.DataFrame'>\n",
                        "RangeIndex: 792 entries, 0 to 791\n",
                        "Data columns (total 12 columns):\n",
                        " #   Column             Non-Null Count  Dtype  \n",
                        "---  ------             --------------  -----  \n",
                        " 0   Country            792 non-null    object \n",
                        " 1   happiness_score    792 non-null    float64\n",
                        " 2   gdp_per_capita     792 non-null    float64\n",
                        " 3   family             792 non-null    float64\n",
                        " 4   health             792 non-null    float64\n",
                        " 5   freedom            792 non-null    float64\n",
                        " 6   generosity         792 non-null    float64\n",
                        " 7   government_trust   792 non-null    float64\n",
                        " 8   dystopia_residual  792 non-null    float64\n",
                        " 9   continent          792 non-null    object \n",
                        " 10  Year               792 non-null    int64  \n",
                        " 11  cpi_score          792 non-null    int64  \n",
                        "dtypes: float64(8), int64(2), object(2)\n",
                        "memory usage: 74.4+ KB\n"
                    ]
                }
            ],
            "source": [
                "# TODO:: View a summary of the data set again\n",
                "df.info()"
            ]
        },
        {
            "cell_type": "code",
            "execution_count": 96,
            "metadata": {},
            "outputs": [
                {
                    "data": {
                        "text/html": [
                            "<div>\n",
                            "<style scoped>\n",
                            "    .dataframe tbody tr th:only-of-type {\n",
                            "        vertical-align: middle;\n",
                            "    }\n",
                            "\n",
                            "    .dataframe tbody tr th {\n",
                            "        vertical-align: top;\n",
                            "    }\n",
                            "\n",
                            "    .dataframe thead th {\n",
                            "        text-align: right;\n",
                            "    }\n",
                            "</style>\n",
                            "<table border=\"1\" class=\"dataframe\">\n",
                            "  <thead>\n",
                            "    <tr style=\"text-align: right;\">\n",
                            "      <th></th>\n",
                            "      <th>Country</th>\n",
                            "      <th>happiness_score</th>\n",
                            "      <th>gdp_per_capita</th>\n",
                            "      <th>family</th>\n",
                            "      <th>health</th>\n",
                            "      <th>freedom</th>\n",
                            "      <th>generosity</th>\n",
                            "      <th>government_trust</th>\n",
                            "      <th>dystopia_residual</th>\n",
                            "      <th>continent</th>\n",
                            "      <th>Year</th>\n",
                            "      <th>cpi_score</th>\n",
                            "    </tr>\n",
                            "  </thead>\n",
                            "  <tbody>\n",
                            "    <tr>\n",
                            "      <th>0</th>\n",
                            "      <td>Norway</td>\n",
                            "      <td>7.537</td>\n",
                            "      <td>1.616463</td>\n",
                            "      <td>1.533524</td>\n",
                            "      <td>0.796667</td>\n",
                            "      <td>0.635423</td>\n",
                            "      <td>0.362012</td>\n",
                            "      <td>0.315964</td>\n",
                            "      <td>2.277027</td>\n",
                            "      <td>Europe</td>\n",
                            "      <td>2015</td>\n",
                            "      <td>88</td>\n",
                            "    </tr>\n",
                            "    <tr>\n",
                            "      <th>1</th>\n",
                            "      <td>Denmark</td>\n",
                            "      <td>7.522</td>\n",
                            "      <td>1.482383</td>\n",
                            "      <td>1.551122</td>\n",
                            "      <td>0.792566</td>\n",
                            "      <td>0.626007</td>\n",
                            "      <td>0.355280</td>\n",
                            "      <td>0.400770</td>\n",
                            "      <td>2.313707</td>\n",
                            "      <td>Europe</td>\n",
                            "      <td>2015</td>\n",
                            "      <td>91</td>\n",
                            "    </tr>\n",
                            "    <tr>\n",
                            "      <th>2</th>\n",
                            "      <td>Iceland</td>\n",
                            "      <td>7.504</td>\n",
                            "      <td>1.480633</td>\n",
                            "      <td>1.610574</td>\n",
                            "      <td>0.833552</td>\n",
                            "      <td>0.627163</td>\n",
                            "      <td>0.475540</td>\n",
                            "      <td>0.153527</td>\n",
                            "      <td>2.322715</td>\n",
                            "      <td>Europe</td>\n",
                            "      <td>2015</td>\n",
                            "      <td>79</td>\n",
                            "    </tr>\n",
                            "    <tr>\n",
                            "      <th>3</th>\n",
                            "      <td>Switzerland</td>\n",
                            "      <td>7.494</td>\n",
                            "      <td>1.564980</td>\n",
                            "      <td>1.516912</td>\n",
                            "      <td>0.858131</td>\n",
                            "      <td>0.620071</td>\n",
                            "      <td>0.290549</td>\n",
                            "      <td>0.367007</td>\n",
                            "      <td>2.276716</td>\n",
                            "      <td>Europe</td>\n",
                            "      <td>2015</td>\n",
                            "      <td>86</td>\n",
                            "    </tr>\n",
                            "    <tr>\n",
                            "      <th>4</th>\n",
                            "      <td>Finland</td>\n",
                            "      <td>7.469</td>\n",
                            "      <td>1.443572</td>\n",
                            "      <td>1.540247</td>\n",
                            "      <td>0.809158</td>\n",
                            "      <td>0.617951</td>\n",
                            "      <td>0.245483</td>\n",
                            "      <td>0.382612</td>\n",
                            "      <td>2.430182</td>\n",
                            "      <td>Europe</td>\n",
                            "      <td>2015</td>\n",
                            "      <td>90</td>\n",
                            "    </tr>\n",
                            "  </tbody>\n",
                            "</table>\n",
                            "</div>"
                        ],
                        "text/plain": [
                            "       Country  happiness_score  gdp_per_capita    family    health   freedom  \\\n",
                            "0       Norway            7.537        1.616463  1.533524  0.796667  0.635423   \n",
                            "1      Denmark            7.522        1.482383  1.551122  0.792566  0.626007   \n",
                            "2      Iceland            7.504        1.480633  1.610574  0.833552  0.627163   \n",
                            "3  Switzerland            7.494        1.564980  1.516912  0.858131  0.620071   \n",
                            "4      Finland            7.469        1.443572  1.540247  0.809158  0.617951   \n",
                            "\n",
                            "   generosity  government_trust  dystopia_residual continent  Year  cpi_score  \n",
                            "0    0.362012          0.315964           2.277027    Europe  2015         88  \n",
                            "1    0.355280          0.400770           2.313707    Europe  2015         91  \n",
                            "2    0.475540          0.153527           2.322715    Europe  2015         79  \n",
                            "3    0.290549          0.367007           2.276716    Europe  2015         86  \n",
                            "4    0.245483          0.382612           2.430182    Europe  2015         90  "
                        ]
                    },
                    "execution_count": 96,
                    "metadata": {},
                    "output_type": "execute_result"
                }
            ],
            "source": [
                "#TODO: Write code to inspect the first five rows of the data frame\n",
                "df.head(5)"
            ]
        },
        {
            "attachments": {},
            "cell_type": "markdown",
            "metadata": {},
            "source": [
                "\n",
                "\n",
                "---\n",
                "\n",
                "\n",
                "# Entropy"
            ]
        },
        {
            "attachments": {},
            "cell_type": "markdown",
            "metadata": {},
            "source": [
                "You should now follow the steps shown in the tutorial notebooks to implement either the supervised learning or unsupervised learning approach on your own dataset. Choose which method to implement based on what you are trying to accomplish in your final project."
            ]
        },
        {
            "cell_type": "code",
            "execution_count": 97,
            "metadata": {},
            "outputs": [],
            "source": [
                "# TODO: Implement learning entropy-based method\n",
                "#I choose decision_tree algorithm for this dataset\n",
                "#import scipy and sklearn packages\n",
                "import scipy.stats\n",
                "from sklearn.tree import DecisionTreeClassifier\n",
                "from sklearn.model_selection import train_test_split\n",
                "from sklearn.metrics import accuracy_score\n",
                "from sklearn import tree\n",
                "import numpy as np\n",
                "import graphviz"
            ]
        },
        {
            "cell_type": "code",
            "execution_count": 98,
            "metadata": {},
            "outputs": [],
            "source": [
                "X = df.drop(columns = ['happiness_score', 'Country',\"continent\"])"
            ]
        },
        {
            "cell_type": "code",
            "execution_count": 99,
            "metadata": {},
            "outputs": [
                {
                    "data": {
                        "text/plain": [
                            "0      7.5370\n",
                            "1      7.5220\n",
                            "2      7.5040\n",
                            "3      7.4940\n",
                            "4      7.4690\n",
                            "        ...  \n",
                            "787    3.4789\n",
                            "788    3.4762\n",
                            "789    3.3123\n",
                            "790    3.2992\n",
                            "791    2.5669\n",
                            "Name: happiness_score, Length: 792, dtype: float64"
                        ]
                    },
                    "execution_count": 99,
                    "metadata": {},
                    "output_type": "execute_result"
                }
            ],
            "source": [
                "happiness = df['happiness_score']\n",
                "happiness"
            ]
        },
        {
            "cell_type": "code",
            "execution_count": 100,
            "metadata": {},
            "outputs": [
                {
                    "data": {
                        "text/plain": [
                            "0      8.0\n",
                            "1      8.0\n",
                            "2      8.0\n",
                            "3      7.0\n",
                            "4      7.0\n",
                            "      ... \n",
                            "787    3.0\n",
                            "788    3.0\n",
                            "789    3.0\n",
                            "790    3.0\n",
                            "791    3.0\n",
                            "Name: happiness_score, Length: 792, dtype: float64"
                        ]
                    },
                    "execution_count": 100,
                    "metadata": {},
                    "output_type": "execute_result"
                }
            ],
            "source": [
                "y = round(happiness)\n",
                "y"
            ]
        },
        {
            "attachments": {},
            "cell_type": "markdown",
            "metadata": {},
            "source": [
                "Compute the entropy"
            ]
        },
        {
            "cell_type": "code",
            "execution_count": 101,
            "metadata": {},
            "outputs": [
                {
                    "data": {
                        "text/plain": [
                            "1.536974463984881"
                        ]
                    },
                    "execution_count": 101,
                    "metadata": {},
                    "output_type": "execute_result"
                }
            ],
            "source": [
                "# Compute the maximum entropy value\n",
                "k = len(y.unique())\n",
                "maxE = np.log2(k) \n",
                "\n",
                "p_data = y.value_counts(normalize=True) # calculates the probability of occurrence for each value in y\n",
                "entropy = scipy.stats.entropy(p_data)   # calculates the entropy from p_data\n",
                "\n",
                "# normalize the value to be between 0 and 1.\n",
                "normalizedE = entropy/maxE\n",
                "\n",
                "#TODO: Write code to display the entropy value\n",
                "entropy"
            ]
        },
        {
            "attachments": {},
            "cell_type": "markdown",
            "metadata": {},
            "source": [
                "Finally, we train an entropy-based classifier on our dataset. This seeks to maximize the information gain of each decision boundary."
            ]
        },
        {
            "cell_type": "code",
            "execution_count": 102,
            "metadata": {},
            "outputs": [],
            "source": [
                "avg_score = 0.0\n",
                "ntimes = 30\n",
                "\n",
                "for i in range(ntimes):\n",
                "\n",
                "    # train model with 80% of the data\n",
                "    X_train, X_test, y_train, y_test = train_test_split(X, y, test_size=0.2)\n",
                "\n",
                "    # prediction using entropy\n",
                "    # Note: You can replace 'entropy' by 'gini' to get the classifier to use the gini index criterion.\n",
                "    dec = DecisionTreeClassifier(criterion='entropy')\n",
                "    model = dec.fit(X_train,y_train)\n",
                "    predictions = model.predict(X_test)\n",
                "\n",
                "    # compute model accuracy\n",
                "    avg_score += accuracy_score(y_test, predictions)\n",
                "\n",
                "avg_score /= ntimes"
            ]
        },
        {
            "cell_type": "code",
            "execution_count": 103,
            "metadata": {},
            "outputs": [
                {
                    "data": {
                        "text/html": [
                            "<div>\n",
                            "<style scoped>\n",
                            "    .dataframe tbody tr th:only-of-type {\n",
                            "        vertical-align: middle;\n",
                            "    }\n",
                            "\n",
                            "    .dataframe tbody tr th {\n",
                            "        vertical-align: top;\n",
                            "    }\n",
                            "\n",
                            "    .dataframe thead th {\n",
                            "        text-align: right;\n",
                            "    }\n",
                            "</style>\n",
                            "<table border=\"1\" class=\"dataframe\">\n",
                            "  <thead>\n",
                            "    <tr style=\"text-align: right;\">\n",
                            "      <th></th>\n",
                            "      <th>gdp_per_capita</th>\n",
                            "      <th>family</th>\n",
                            "      <th>health</th>\n",
                            "      <th>freedom</th>\n",
                            "      <th>generosity</th>\n",
                            "      <th>government_trust</th>\n",
                            "      <th>dystopia_residual</th>\n",
                            "      <th>Year</th>\n",
                            "      <th>cpi_score</th>\n",
                            "    </tr>\n",
                            "  </thead>\n",
                            "  <tbody>\n",
                            "    <tr>\n",
                            "      <th>515</th>\n",
                            "      <td>0.259000</td>\n",
                            "      <td>0.000000</td>\n",
                            "      <td>0.253000</td>\n",
                            "      <td>0.434000</td>\n",
                            "      <td>0.158000</td>\n",
                            "      <td>0.101000</td>\n",
                            "      <td>0.000000</td>\n",
                            "      <td>2018</td>\n",
                            "      <td>30</td>\n",
                            "    </tr>\n",
                            "    <tr>\n",
                            "      <th>632</th>\n",
                            "      <td>0.522670</td>\n",
                            "      <td>0.762400</td>\n",
                            "      <td>0.301470</td>\n",
                            "      <td>0.405760</td>\n",
                            "      <td>0.413280</td>\n",
                            "      <td>0.066860</td>\n",
                            "      <td>1.883260</td>\n",
                            "      <td>2019</td>\n",
                            "      <td>28</td>\n",
                            "    </tr>\n",
                            "    <tr>\n",
                            "      <th>253</th>\n",
                            "      <td>0.460380</td>\n",
                            "      <td>0.627360</td>\n",
                            "      <td>0.611140</td>\n",
                            "      <td>0.662460</td>\n",
                            "      <td>0.403590</td>\n",
                            "      <td>0.072470</td>\n",
                            "      <td>0.981950</td>\n",
                            "      <td>2016</td>\n",
                            "      <td>21</td>\n",
                            "    </tr>\n",
                            "    <tr>\n",
                            "      <th>689</th>\n",
                            "      <td>0.952680</td>\n",
                            "      <td>0.000000</td>\n",
                            "      <td>0.766119</td>\n",
                            "      <td>0.483293</td>\n",
                            "      <td>0.131675</td>\n",
                            "      <td>0.106519</td>\n",
                            "      <td>2.571860</td>\n",
                            "      <td>2020</td>\n",
                            "      <td>38</td>\n",
                            "    </tr>\n",
                            "    <tr>\n",
                            "      <th>49</th>\n",
                            "      <td>0.728871</td>\n",
                            "      <td>1.251826</td>\n",
                            "      <td>0.589465</td>\n",
                            "      <td>0.240729</td>\n",
                            "      <td>0.208779</td>\n",
                            "      <td>0.010091</td>\n",
                            "      <td>2.807808</td>\n",
                            "      <td>2015</td>\n",
                            "      <td>33</td>\n",
                            "    </tr>\n",
                            "    <tr>\n",
                            "      <th>...</th>\n",
                            "      <td>...</td>\n",
                            "      <td>...</td>\n",
                            "      <td>...</td>\n",
                            "      <td>...</td>\n",
                            "      <td>...</td>\n",
                            "      <td>...</td>\n",
                            "      <td>...</td>\n",
                            "      <td>...</td>\n",
                            "      <td>...</td>\n",
                            "    </tr>\n",
                            "    <tr>\n",
                            "      <th>118</th>\n",
                            "      <td>0.438013</td>\n",
                            "      <td>0.953856</td>\n",
                            "      <td>0.041135</td>\n",
                            "      <td>0.162342</td>\n",
                            "      <td>0.216114</td>\n",
                            "      <td>0.053582</td>\n",
                            "      <td>2.071238</td>\n",
                            "      <td>2015</td>\n",
                            "      <td>22</td>\n",
                            "    </tr>\n",
                            "    <tr>\n",
                            "      <th>175</th>\n",
                            "      <td>0.681330</td>\n",
                            "      <td>0.978410</td>\n",
                            "      <td>0.539200</td>\n",
                            "      <td>0.574140</td>\n",
                            "      <td>0.205360</td>\n",
                            "      <td>0.088000</td>\n",
                            "      <td>2.823340</td>\n",
                            "      <td>2016</td>\n",
                            "      <td>33</td>\n",
                            "    </tr>\n",
                            "    <tr>\n",
                            "      <th>244</th>\n",
                            "      <td>0.422500</td>\n",
                            "      <td>0.887670</td>\n",
                            "      <td>0.234020</td>\n",
                            "      <td>0.493090</td>\n",
                            "      <td>0.206180</td>\n",
                            "      <td>0.057860</td>\n",
                            "      <td>1.950710</td>\n",
                            "      <td>2016</td>\n",
                            "      <td>26</td>\n",
                            "    </tr>\n",
                            "    <tr>\n",
                            "      <th>678</th>\n",
                            "      <td>1.295843</td>\n",
                            "      <td>0.000000</td>\n",
                            "      <td>0.964901</td>\n",
                            "      <td>0.499805</td>\n",
                            "      <td>0.146966</td>\n",
                            "      <td>0.208724</td>\n",
                            "      <td>2.348627</td>\n",
                            "      <td>2020</td>\n",
                            "      <td>76</td>\n",
                            "    </tr>\n",
                            "    <tr>\n",
                            "      <th>316</th>\n",
                            "      <td>1.327000</td>\n",
                            "      <td>0.000000</td>\n",
                            "      <td>1.088000</td>\n",
                            "      <td>0.445000</td>\n",
                            "      <td>0.069000</td>\n",
                            "      <td>0.140000</td>\n",
                            "      <td>0.000000</td>\n",
                            "      <td>2017</td>\n",
                            "      <td>73</td>\n",
                            "    </tr>\n",
                            "  </tbody>\n",
                            "</table>\n",
                            "<p>159 rows × 9 columns</p>\n",
                            "</div>"
                        ],
                        "text/plain": [
                            "     gdp_per_capita    family    health   freedom  generosity  \\\n",
                            "515        0.259000  0.000000  0.253000  0.434000    0.158000   \n",
                            "632        0.522670  0.762400  0.301470  0.405760    0.413280   \n",
                            "253        0.460380  0.627360  0.611140  0.662460    0.403590   \n",
                            "689        0.952680  0.000000  0.766119  0.483293    0.131675   \n",
                            "49         0.728871  1.251826  0.589465  0.240729    0.208779   \n",
                            "..              ...       ...       ...       ...         ...   \n",
                            "118        0.438013  0.953856  0.041135  0.162342    0.216114   \n",
                            "175        0.681330  0.978410  0.539200  0.574140    0.205360   \n",
                            "244        0.422500  0.887670  0.234020  0.493090    0.206180   \n",
                            "678        1.295843  0.000000  0.964901  0.499805    0.146966   \n",
                            "316        1.327000  0.000000  1.088000  0.445000    0.069000   \n",
                            "\n",
                            "     government_trust  dystopia_residual  Year  cpi_score  \n",
                            "515          0.101000           0.000000  2018         30  \n",
                            "632          0.066860           1.883260  2019         28  \n",
                            "253          0.072470           0.981950  2016         21  \n",
                            "689          0.106519           2.571860  2020         38  \n",
                            "49           0.010091           2.807808  2015         33  \n",
                            "..                ...                ...   ...        ...  \n",
                            "118          0.053582           2.071238  2015         22  \n",
                            "175          0.088000           2.823340  2016         33  \n",
                            "244          0.057860           1.950710  2016         26  \n",
                            "678          0.208724           2.348627  2020         76  \n",
                            "316          0.140000           0.000000  2017         73  \n",
                            "\n",
                            "[159 rows x 9 columns]"
                        ]
                    },
                    "execution_count": 103,
                    "metadata": {},
                    "output_type": "execute_result"
                }
            ],
            "source": [
                "X_test"
            ]
        },
        {
            "cell_type": "code",
            "execution_count": 104,
            "metadata": {},
            "outputs": [
                {
                    "data": {
                        "text/plain": [
                            "515    4.0\n",
                            "632    4.0\n",
                            "253    4.0\n",
                            "689    6.0\n",
                            "49     6.0\n",
                            "      ... \n",
                            "118    4.0\n",
                            "175    6.0\n",
                            "244    4.0\n",
                            "678    7.0\n",
                            "316    6.0\n",
                            "Name: happiness_score, Length: 159, dtype: float64"
                        ]
                    },
                    "execution_count": 104,
                    "metadata": {},
                    "output_type": "execute_result"
                }
            ],
            "source": [
                "y_test"
            ]
        },
        {
            "cell_type": "code",
            "execution_count": 105,
            "metadata": {},
            "outputs": [
                {
                    "data": {
                        "text/plain": [
                            "array([4., 4., 6., 6., 5., 5., 4., 6., 5., 5., 6., 6., 6., 6., 6., 6., 5.,\n",
                            "       6., 6., 7., 6., 4., 4., 5., 5., 5., 6., 5., 4., 5., 7., 6., 6., 7.,\n",
                            "       8., 7., 5., 6., 5., 3., 4., 6., 4., 6., 5., 6., 5., 6., 5., 4., 6.,\n",
                            "       6., 5., 6., 5., 5., 3., 6., 4., 5., 6., 6., 5., 5., 6., 6., 7., 5.,\n",
                            "       5., 7., 6., 5., 6., 5., 6., 5., 6., 5., 7., 4., 7., 6., 5., 5., 8.,\n",
                            "       7., 4., 5., 6., 5., 5., 7., 7., 6., 6., 6., 4., 4., 6., 7., 5., 6.,\n",
                            "       4., 5., 6., 5., 4., 7., 5., 6., 8., 7., 4., 4., 4., 7., 7., 4., 7.,\n",
                            "       5., 5., 5., 6., 4., 4., 6., 4., 7., 7., 4., 5., 4., 6., 6., 5., 4.,\n",
                            "       5., 7., 6., 5., 6., 5., 6., 4., 8., 7., 6., 5., 6., 6., 5., 5., 5.,\n",
                            "       4., 4., 6., 4., 7., 7.])"
                        ]
                    },
                    "execution_count": 105,
                    "metadata": {},
                    "output_type": "execute_result"
                }
            ],
            "source": [
                "predictions"
            ]
        },
        {
            "cell_type": "code",
            "execution_count": 106,
            "metadata": {},
            "outputs": [],
            "source": [
                "import matplotlib.pyplot as plt"
            ]
        },
        {
            "cell_type": "code",
            "execution_count": 107,
            "metadata": {},
            "outputs": [
                {
                    "data": {
                        "image/png": "[encoded data removed]",
                        "text/plain": [
                            "<Figure size 1200x1200 with 1 Axes>"
                        ]
                    },
                    "metadata": {},
                    "output_type": "display_data"
                }
            ],
            "source": [
                "fig, axes = plt.subplots(nrows = 1,ncols = 1,figsize = (4,4), dpi=300)\n",
                "treeFig = tree.plot_tree(model)\n",
                "fig.savefig('imagename.png')"
            ]
        },
        {
            "cell_type": "code",
            "execution_count": 108,
            "metadata": {},
            "outputs": [
                {
                    "data": {
                        "text/plain": [
                            "[Text(0.6196469907407407, 0.9705882352941176, 'X[8] <= 65.0\\nentropy = 2.229\\nsamples = 633\\nvalue = [24, 114, 187, 189, 102, 17]'),\n",
                            " Text(0.3828125, 0.9117647058823529, 'X[2] <= 0.497\\nentropy = 1.94\\nsamples = 515\\nvalue = [24, 114, 186, 169, 22, 0]'),\n",
                            " Text(0.20347222222222222, 0.8529411764705882, 'X[6] <= 2.234\\nentropy = 1.537\\nsamples = 151\\nvalue = [21, 81, 45, 4, 0, 0]'),\n",
                            " Text(0.13657407407407407, 0.7941176470588235, 'X[0] <= 0.523\\nentropy = 1.364\\nsamples = 120\\nvalue = [21, 76, 22, 1, 0, 0]'),\n",
                            " Text(0.08055555555555556, 0.7352941176470589, 'X[2] <= 0.365\\nentropy = 1.201\\nsamples = 80\\nvalue = [20, 53, 7, 0, 0, 0]'),\n",
                            " Text(0.03518518518518519, 0.6764705882352942, 'X[0] <= 0.099\\nentropy = 0.848\\nsamples = 51\\nvalue = [14, 37, 0, 0, 0, 0]'),\n",
                            " Text(0.014814814814814815, 0.6176470588235294, 'X[2] <= 0.282\\nentropy = 0.65\\nsamples = 6\\nvalue = [5, 1, 0, 0, 0, 0]'),\n",
                            " Text(0.007407407407407408, 0.5588235294117647, 'entropy = 0.0\\nsamples = 5\\nvalue = [5, 0, 0, 0, 0, 0]'),\n",
                            " Text(0.022222222222222223, 0.5588235294117647, 'entropy = 0.0\\nsamples = 1\\nvalue = [0, 1, 0, 0, 0, 0]'),\n",
                            " Text(0.05555555555555555, 0.6176470588235294, 'X[2] <= 0.319\\nentropy = 0.722\\nsamples = 45\\nvalue = [9, 36, 0, 0, 0, 0]'),\n",
                            " Text(0.037037037037037035, 0.5588235294117647, 'X[6] <= 2.101\\nentropy = 0.503\\nsamples = 36\\nvalue = [4, 32, 0, 0, 0, 0]'),\n",
                            " Text(0.022222222222222223, 0.5, 'X[4] <= 0.171\\nentropy = 0.216\\nsamples = 29\\nvalue = [1, 28, 0, 0, 0, 0]'),\n",
                            " Text(0.014814814814814815, 0.4411764705882353, 'X[7] <= 2016.5\\nentropy = 0.811\\nsamples = 4\\nvalue = [1, 3, 0, 0, 0, 0]'),\n",
                            " Text(0.007407407407407408, 0.38235294117647056, 'entropy = 0.0\\nsamples = 1\\nvalue = [1, 0, 0, 0, 0, 0]'),\n",
                            " Text(0.022222222222222223, 0.38235294117647056, 'entropy = 0.0\\nsamples = 3\\nvalue = [0, 3, 0, 0, 0, 0]'),\n",
                            " Text(0.02962962962962963, 0.4411764705882353, 'entropy = 0.0\\nsamples = 25\\nvalue = [0, 25, 0, 0, 0, 0]'),\n",
                            " Text(0.05185185185185185, 0.5, 'X[1] <= 0.211\\nentropy = 0.985\\nsamples = 7\\nvalue = [3, 4, 0, 0, 0, 0]'),\n",
                            " Text(0.044444444444444446, 0.4411764705882353, 'entropy = 0.0\\nsamples = 3\\nvalue = [3, 0, 0, 0, 0, 0]'),\n",
                            " Text(0.05925925925925926, 0.4411764705882353, 'entropy = 0.0\\nsamples = 4\\nvalue = [0, 4, 0, 0, 0, 0]'),\n",
                            " Text(0.07407407407407407, 0.5588235294117647, 'X[6] <= 0.999\\nentropy = 0.991\\nsamples = 9\\nvalue = [5, 4, 0, 0, 0, 0]'),\n",
                            " Text(0.06666666666666667, 0.5, 'entropy = 0.0\\nsamples = 4\\nvalue = [4, 0, 0, 0, 0, 0]'),\n",
                            " Text(0.08148148148148149, 0.5, 'X[3] <= 0.471\\nentropy = 0.722\\nsamples = 5\\nvalue = [1, 4, 0, 0, 0, 0]'),\n",
                            " Text(0.07407407407407407, 0.4411764705882353, 'entropy = 0.0\\nsamples = 4\\nvalue = [0, 4, 0, 0, 0, 0]'),\n",
                            " Text(0.08888888888888889, 0.4411764705882353, 'entropy = 0.0\\nsamples = 1\\nvalue = [1, 0, 0, 0, 0, 0]'),\n",
                            " Text(0.1259259259259259, 0.6764705882352942, 'X[8] <= 35.0\\nentropy = 1.439\\nsamples = 29\\nvalue = [6, 16, 7, 0, 0, 0]'),\n",
                            " Text(0.1111111111111111, 0.6176470588235294, 'X[2] <= 0.375\\nentropy = 1.054\\nsamples = 20\\nvalue = [2, 15, 3, 0, 0, 0]'),\n",
                            " Text(0.1037037037037037, 0.5588235294117647, 'entropy = 0.0\\nsamples = 2\\nvalue = [0, 0, 2, 0, 0, 0]'),\n",
                            " Text(0.11851851851851852, 0.5588235294117647, 'X[4] <= 0.817\\nentropy = 0.803\\nsamples = 18\\nvalue = [2, 15, 1, 0, 0, 0]'),\n",
                            " Text(0.1111111111111111, 0.5, 'X[2] <= 0.458\\nentropy = 0.523\\nsamples = 17\\nvalue = [2, 15, 0, 0, 0, 0]'),\n",
                            " Text(0.1037037037037037, 0.4411764705882353, 'entropy = 0.0\\nsamples = 13\\nvalue = [0, 13, 0, 0, 0, 0]'),\n",
                            " Text(0.11851851851851852, 0.4411764705882353, 'X[7] <= 2016.5\\nentropy = 1.0\\nsamples = 4\\nvalue = [2, 2, 0, 0, 0, 0]'),\n",
                            " Text(0.1111111111111111, 0.38235294117647056, 'entropy = 0.0\\nsamples = 2\\nvalue = [0, 2, 0, 0, 0, 0]'),\n",
                            " Text(0.1259259259259259, 0.38235294117647056, 'entropy = 0.0\\nsamples = 2\\nvalue = [2, 0, 0, 0, 0, 0]'),\n",
                            " Text(0.1259259259259259, 0.5, 'entropy = 0.0\\nsamples = 1\\nvalue = [0, 0, 1, 0, 0, 0]'),\n",
                            " Text(0.14074074074074075, 0.6176470588235294, 'X[4] <= 0.187\\nentropy = 1.392\\nsamples = 9\\nvalue = [4, 1, 4, 0, 0, 0]'),\n",
                            " Text(0.13333333333333333, 0.5588235294117647, 'entropy = 0.0\\nsamples = 4\\nvalue = [0, 0, 4, 0, 0, 0]'),\n",
                            " Text(0.14814814814814814, 0.5588235294117647, 'X[4] <= 0.196\\nentropy = 0.722\\nsamples = 5\\nvalue = [4, 1, 0, 0, 0, 0]'),\n",
                            " Text(0.14074074074074075, 0.5, 'entropy = 0.0\\nsamples = 1\\nvalue = [0, 1, 0, 0, 0, 0]'),\n",
                            " Text(0.15555555555555556, 0.5, 'entropy = 0.0\\nsamples = 4\\nvalue = [4, 0, 0, 0, 0, 0]'),\n",
                            " Text(0.1925925925925926, 0.7352941176470589, 'X[5] <= 0.078\\nentropy = 1.256\\nsamples = 40\\nvalue = [1, 23, 15, 1, 0, 0]'),\n",
                            " Text(0.17777777777777778, 0.6764705882352942, 'X[3] <= 0.334\\nentropy = 0.787\\nsamples = 17\\nvalue = [0, 4, 13, 0, 0, 0]'),\n",
                            " Text(0.17037037037037037, 0.6176470588235294, 'entropy = 0.0\\nsamples = 2\\nvalue = [0, 2, 0, 0, 0, 0]'),\n",
                            " Text(0.18518518518518517, 0.6176470588235294, 'X[3] <= 0.606\\nentropy = 0.567\\nsamples = 15\\nvalue = [0, 2, 13, 0, 0, 0]'),\n",
                            " Text(0.17777777777777778, 0.5588235294117647, 'X[6] <= 2.116\\nentropy = 0.371\\nsamples = 14\\nvalue = [0, 1, 13, 0, 0, 0]'),\n",
                            " Text(0.17037037037037037, 0.5, 'entropy = 0.0\\nsamples = 13\\nvalue = [0, 0, 13, 0, 0, 0]'),\n",
                            " Text(0.18518518518518517, 0.5, 'entropy = 0.0\\nsamples = 1\\nvalue = [0, 1, 0, 0, 0, 0]'),\n",
                            " Text(0.1925925925925926, 0.5588235294117647, 'entropy = 0.0\\nsamples = 1\\nvalue = [0, 1, 0, 0, 0, 0]'),\n",
                            " Text(0.2074074074074074, 0.6764705882352942, 'X[4] <= 0.038\\nentropy = 0.927\\nsamples = 23\\nvalue = [1, 19, 2, 1, 0, 0]'),\n",
                            " Text(0.2, 0.6176470588235294, 'entropy = 0.0\\nsamples = 1\\nvalue = [1, 0, 0, 0, 0, 0]'),\n",
                            " Text(0.21481481481481482, 0.6176470588235294, 'X[5] <= 0.223\\nentropy = 0.7\\nsamples = 22\\nvalue = [0, 19, 2, 1, 0, 0]'),\n",
                            " Text(0.2074074074074074, 0.5588235294117647, 'X[5] <= 0.096\\nentropy = 0.454\\nsamples = 21\\nvalue = [0, 19, 2, 0, 0, 0]'),\n",
                            " Text(0.2, 0.5, 'entropy = 0.0\\nsamples = 11\\nvalue = [0, 11, 0, 0, 0, 0]'),\n",
                            " Text(0.21481481481481482, 0.5, 'X[5] <= 0.118\\nentropy = 0.722\\nsamples = 10\\nvalue = [0, 8, 2, 0, 0, 0]'),\n",
                            " Text(0.2074074074074074, 0.4411764705882353, 'X[0] <= 0.959\\nentropy = 1.0\\nsamples = 4\\nvalue = [0, 2, 2, 0, 0, 0]'),\n",
                            " Text(0.2, 0.38235294117647056, 'entropy = 0.0\\nsamples = 2\\nvalue = [0, 0, 2, 0, 0, 0]'),\n",
                            " Text(0.21481481481481482, 0.38235294117647056, 'entropy = 0.0\\nsamples = 2\\nvalue = [0, 2, 0, 0, 0, 0]'),\n",
                            " Text(0.2222222222222222, 0.4411764705882353, 'entropy = 0.0\\nsamples = 6\\nvalue = [0, 6, 0, 0, 0, 0]'),\n",
                            " Text(0.2222222222222222, 0.5588235294117647, 'entropy = 0.0\\nsamples = 1\\nvalue = [0, 0, 0, 1, 0, 0]'),\n",
                            " Text(0.27037037037037037, 0.7941176470588235, 'X[2] <= 0.451\\nentropy = 1.07\\nsamples = 31\\nvalue = [0, 5, 23, 3, 0, 0]'),\n",
                            " Text(0.2518518518518518, 0.7352941176470589, 'X[8] <= 24.5\\nentropy = 0.691\\nsamples = 27\\nvalue = [0, 5, 22, 0, 0, 0]'),\n",
                            " Text(0.23703703703703705, 0.6764705882352942, 'X[7] <= 2017.5\\nentropy = 0.918\\nsamples = 6\\nvalue = [0, 4, 2, 0, 0, 0]'),\n",
                            " Text(0.22962962962962963, 0.6176470588235294, 'entropy = 0.0\\nsamples = 2\\nvalue = [0, 0, 2, 0, 0, 0]'),\n",
                            " Text(0.24444444444444444, 0.6176470588235294, 'entropy = 0.0\\nsamples = 4\\nvalue = [0, 4, 0, 0, 0, 0]'),\n",
                            " Text(0.26666666666666666, 0.6764705882352942, 'X[0] <= 0.044\\nentropy = 0.276\\nsamples = 21\\nvalue = [0, 1, 20, 0, 0, 0]'),\n",
                            " Text(0.25925925925925924, 0.6176470588235294, 'entropy = 0.0\\nsamples = 1\\nvalue = [0, 1, 0, 0, 0, 0]'),\n",
                            " Text(0.2740740740740741, 0.6176470588235294, 'entropy = 0.0\\nsamples = 20\\nvalue = [0, 0, 20, 0, 0, 0]'),\n",
                            " Text(0.28888888888888886, 0.7352941176470589, 'X[6] <= 2.339\\nentropy = 0.811\\nsamples = 4\\nvalue = [0, 0, 1, 3, 0, 0]'),\n",
                            " Text(0.2814814814814815, 0.6764705882352942, 'entropy = 0.0\\nsamples = 1\\nvalue = [0, 0, 1, 0, 0, 0]'),\n",
                            " Text(0.2962962962962963, 0.6764705882352942, 'entropy = 0.0\\nsamples = 3\\nvalue = [0, 0, 0, 3, 0, 0]'),\n",
                            " Text(0.5621527777777777, 0.8529411764705882, 'X[0] <= 1.062\\nentropy = 1.663\\nsamples = 364\\nvalue = [3, 33, 141, 165, 22, 0]'),\n",
                            " Text(0.44884259259259257, 0.7941176470588235, 'X[3] <= 0.389\\nentropy = 1.638\\nsamples = 223\\nvalue = [3, 31, 108, 76, 5, 0]'),\n",
                            " Text(0.3768518518518518, 0.7352941176470589, 'X[6] <= 1.99\\nentropy = 1.289\\nsamples = 85\\nvalue = [0, 20, 54, 11, 0, 0]'),\n",
                            " Text(0.32407407407407407, 0.6764705882352942, 'X[2] <= 0.653\\nentropy = 1.264\\nsamples = 62\\nvalue = [0, 20, 37, 5, 0, 0]'),\n",
                            " Text(0.28888888888888886, 0.6176470588235294, 'X[0] <= 0.968\\nentropy = 1.124\\nsamples = 25\\nvalue = [0, 16, 8, 1, 0, 0]'),\n",
                            " Text(0.2740740740740741, 0.5588235294117647, 'X[0] <= 0.735\\nentropy = 0.944\\nsamples = 18\\nvalue = [0, 14, 3, 1, 0, 0]'),\n",
                            " Text(0.26666666666666666, 0.5, 'X[2] <= 0.562\\nentropy = 1.459\\nsamples = 6\\nvalue = [0, 2, 3, 1, 0, 0]'),\n",
                            " Text(0.25925925925925924, 0.4411764705882353, 'X[4] <= 0.215\\nentropy = 0.918\\nsamples = 3\\nvalue = [0, 2, 0, 1, 0, 0]'),\n",
                            " Text(0.2518518518518518, 0.38235294117647056, 'entropy = 0.0\\nsamples = 2\\nvalue = [0, 2, 0, 0, 0, 0]'),\n",
                            " Text(0.26666666666666666, 0.38235294117647056, 'entropy = 0.0\\nsamples = 1\\nvalue = [0, 0, 0, 1, 0, 0]'),\n",
                            " Text(0.2740740740740741, 0.4411764705882353, 'entropy = 0.0\\nsamples = 3\\nvalue = [0, 0, 3, 0, 0, 0]'),\n",
                            " Text(0.2814814814814815, 0.5, 'entropy = 0.0\\nsamples = 12\\nvalue = [0, 12, 0, 0, 0, 0]'),\n",
                            " Text(0.3037037037037037, 0.5588235294117647, 'X[6] <= 0.768\\nentropy = 0.863\\nsamples = 7\\nvalue = [0, 2, 5, 0, 0, 0]'),\n",
                            " Text(0.2962962962962963, 0.5, 'entropy = 0.0\\nsamples = 2\\nvalue = [0, 2, 0, 0, 0, 0]'),\n",
                            " Text(0.3111111111111111, 0.5, 'entropy = 0.0\\nsamples = 5\\nvalue = [0, 0, 5, 0, 0, 0]'),\n",
                            " Text(0.3592592592592593, 0.6176470588235294, 'X[8] <= 40.0\\nentropy = 0.969\\nsamples = 37\\nvalue = [0, 4, 29, 4, 0, 0]'),\n",
                            " Text(0.3333333333333333, 0.5588235294117647, 'X[0] <= 0.769\\nentropy = 0.468\\nsamples = 26\\nvalue = [0, 1, 24, 1, 0, 0]'),\n",
                            " Text(0.32592592592592595, 0.5, 'X[4] <= 0.13\\nentropy = 1.585\\nsamples = 3\\nvalue = [0, 1, 1, 1, 0, 0]'),\n",
                            " Text(0.31851851851851853, 0.4411764705882353, 'entropy = 0.0\\nsamples = 1\\nvalue = [0, 1, 0, 0, 0, 0]'),\n",
                            " Text(0.3333333333333333, 0.4411764705882353, 'X[5] <= 0.072\\nentropy = 1.0\\nsamples = 2\\nvalue = [0, 0, 1, 1, 0, 0]'),\n",
                            " Text(0.32592592592592595, 0.38235294117647056, 'entropy = 0.0\\nsamples = 1\\nvalue = [0, 0, 0, 1, 0, 0]'),\n",
                            " Text(0.34074074074074073, 0.38235294117647056, 'entropy = 0.0\\nsamples = 1\\nvalue = [0, 0, 1, 0, 0, 0]'),\n",
                            " Text(0.34074074074074073, 0.5, 'entropy = 0.0\\nsamples = 23\\nvalue = [0, 0, 23, 0, 0, 0]'),\n",
                            " Text(0.3851851851851852, 0.5588235294117647, 'X[3] <= 0.306\\nentropy = 1.539\\nsamples = 11\\nvalue = [0, 3, 5, 3, 0, 0]'),\n",
                            " Text(0.37777777777777777, 0.5, 'X[5] <= 0.059\\nentropy = 1.449\\nsamples = 7\\nvalue = [0, 3, 1, 3, 0, 0]'),\n",
                            " Text(0.362962962962963, 0.4411764705882353, 'X[4] <= 0.128\\nentropy = 0.811\\nsamples = 4\\nvalue = [0, 3, 0, 1, 0, 0]'),\n",
                            " Text(0.35555555555555557, 0.38235294117647056, 'entropy = 0.0\\nsamples = 3\\nvalue = [0, 3, 0, 0, 0, 0]'),\n",
                            " Text(0.37037037037037035, 0.38235294117647056, 'entropy = 0.0\\nsamples = 1\\nvalue = [0, 0, 0, 1, 0, 0]'),\n",
                            " Text(0.3925925925925926, 0.4411764705882353, 'X[7] <= 2019.0\\nentropy = 0.918\\nsamples = 3\\nvalue = [0, 0, 1, 2, 0, 0]'),\n",
                            " Text(0.3851851851851852, 0.38235294117647056, 'entropy = 0.0\\nsamples = 1\\nvalue = [0, 0, 1, 0, 0, 0]'),\n",
                            " Text(0.4, 0.38235294117647056, 'entropy = 0.0\\nsamples = 2\\nvalue = [0, 0, 0, 2, 0, 0]'),\n",
                            " Text(0.3925925925925926, 0.5, 'entropy = 0.0\\nsamples = 4\\nvalue = [0, 0, 4, 0, 0, 0]'),\n",
                            " Text(0.42962962962962964, 0.6764705882352942, 'X[6] <= 3.107\\nentropy = 0.828\\nsamples = 23\\nvalue = [0, 0, 17, 6, 0, 0]'),\n",
                            " Text(0.4222222222222222, 0.6176470588235294, 'X[3] <= 0.373\\nentropy = 0.61\\nsamples = 20\\nvalue = [0, 0, 17, 3, 0, 0]'),\n",
                            " Text(0.4148148148148148, 0.5588235294117647, 'X[2] <= 0.802\\nentropy = 0.31\\nsamples = 18\\nvalue = [0, 0, 17, 1, 0, 0]'),\n",
                            " Text(0.4074074074074074, 0.5, 'entropy = 0.0\\nsamples = 17\\nvalue = [0, 0, 17, 0, 0, 0]'),\n",
                            " Text(0.4222222222222222, 0.5, 'entropy = 0.0\\nsamples = 1\\nvalue = [0, 0, 0, 1, 0, 0]'),\n",
                            " Text(0.42962962962962964, 0.5588235294117647, 'entropy = 0.0\\nsamples = 2\\nvalue = [0, 0, 0, 2, 0, 0]'),\n",
                            " Text(0.43703703703703706, 0.6176470588235294, 'entropy = 0.0\\nsamples = 3\\nvalue = [0, 0, 0, 3, 0, 0]'),\n",
                            " Text(0.5208333333333334, 0.7352941176470589, 'X[8] <= 53.5\\nentropy = 1.626\\nsamples = 138\\nvalue = [3, 11, 54, 65, 5, 0]'),\n",
                            " Text(0.49722222222222223, 0.6764705882352942, 'X[6] <= 2.636\\nentropy = 1.438\\nsamples = 131\\nvalue = [0, 10, 53, 65, 3, 0]'),\n",
                            " Text(0.4722222222222222, 0.6176470588235294, 'X[0] <= 0.597\\nentropy = 1.334\\nsamples = 118\\nvalue = [0, 10, 53, 55, 0, 0]'),\n",
                            " Text(0.4444444444444444, 0.5588235294117647, 'X[4] <= 0.169\\nentropy = 0.748\\nsamples = 20\\nvalue = [0, 2, 17, 1, 0, 0]'),\n",
                            " Text(0.43703703703703706, 0.5, 'entropy = 0.0\\nsamples = 2\\nvalue = [0, 2, 0, 0, 0, 0]'),\n",
                            " Text(0.45185185185185184, 0.5, 'X[3] <= 0.612\\nentropy = 0.31\\nsamples = 18\\nvalue = [0, 0, 17, 1, 0, 0]'),\n",
                            " Text(0.4444444444444444, 0.4411764705882353, 'entropy = 0.0\\nsamples = 17\\nvalue = [0, 0, 17, 0, 0, 0]'),\n",
                            " Text(0.45925925925925926, 0.4411764705882353, 'entropy = 0.0\\nsamples = 1\\nvalue = [0, 0, 0, 1, 0, 0]'),\n",
                            " Text(0.5, 0.5588235294117647, 'X[4] <= 0.063\\nentropy = 1.3\\nsamples = 98\\nvalue = [0, 8, 36, 54, 0, 0]'),\n",
                            " Text(0.4925925925925926, 0.5, 'entropy = 0.0\\nsamples = 7\\nvalue = [0, 0, 7, 0, 0, 0]'),\n",
                            " Text(0.5074074074074074, 0.5, 'X[6] <= 1.014\\nentropy = 1.281\\nsamples = 91\\nvalue = [0, 8, 29, 54, 0, 0]'),\n",
                            " Text(0.4740740740740741, 0.4411764705882353, 'X[6] <= 0.21\\nentropy = 1.305\\nsamples = 47\\nvalue = [0, 8, 9, 30, 0, 0]'),\n",
                            " Text(0.4666666666666667, 0.38235294117647056, 'X[4] <= 0.111\\nentropy = 1.095\\nsamples = 42\\nvalue = [0, 3, 9, 30, 0, 0]'),\n",
                            " Text(0.45925925925925926, 0.3235294117647059, 'entropy = 0.0\\nsamples = 9\\nvalue = [0, 0, 0, 9, 0, 0]'),\n",
                            " Text(0.4740740740740741, 0.3235294117647059, 'X[0] <= 0.891\\nentropy = 1.241\\nsamples = 33\\nvalue = [0, 3, 9, 21, 0, 0]'),\n",
                            " Text(0.43703703703703706, 0.2647058823529412, 'X[8] <= 29.5\\nentropy = 0.922\\nsamples = 20\\nvalue = [0, 2, 2, 16, 0, 0]'),\n",
                            " Text(0.42962962962962964, 0.20588235294117646, 'entropy = 0.0\\nsamples = 11\\nvalue = [0, 0, 0, 11, 0, 0]'),\n",
                            " Text(0.4444444444444444, 0.20588235294117646, 'X[0] <= 0.765\\nentropy = 1.436\\nsamples = 9\\nvalue = [0, 2, 2, 5, 0, 0]'),\n",
                            " Text(0.42962962962962964, 0.14705882352941177, 'X[4] <= 0.174\\nentropy = 0.918\\nsamples = 3\\nvalue = [0, 2, 1, 0, 0, 0]'),\n",
                            " Text(0.4222222222222222, 0.08823529411764706, 'entropy = 0.0\\nsamples = 1\\nvalue = [0, 0, 1, 0, 0, 0]'),\n",
                            " Text(0.43703703703703706, 0.08823529411764706, 'entropy = 0.0\\nsamples = 2\\nvalue = [0, 2, 0, 0, 0, 0]'),\n",
                            " Text(0.45925925925925926, 0.14705882352941177, 'X[5] <= 0.121\\nentropy = 0.65\\nsamples = 6\\nvalue = [0, 0, 1, 5, 0, 0]'),\n",
                            " Text(0.45185185185185184, 0.08823529411764706, 'entropy = 0.0\\nsamples = 5\\nvalue = [0, 0, 0, 5, 0, 0]'),\n",
                            " Text(0.4666666666666667, 0.08823529411764706, 'entropy = 0.0\\nsamples = 1\\nvalue = [0, 0, 1, 0, 0, 0]'),\n",
                            " Text(0.5111111111111111, 0.2647058823529412, 'X[3] <= 0.581\\nentropy = 1.296\\nsamples = 13\\nvalue = [0, 1, 7, 5, 0, 0]'),\n",
                            " Text(0.4962962962962963, 0.20588235294117646, 'X[2] <= 0.809\\nentropy = 0.946\\nsamples = 11\\nvalue = [0, 0, 7, 4, 0, 0]'),\n",
                            " Text(0.4888888888888889, 0.14705882352941177, 'X[8] <= 24.0\\nentropy = 0.764\\nsamples = 9\\nvalue = [0, 0, 7, 2, 0, 0]'),\n",
                            " Text(0.48148148148148145, 0.08823529411764706, 'X[2] <= 0.605\\nentropy = 0.918\\nsamples = 3\\nvalue = [0, 0, 1, 2, 0, 0]'),\n",
                            " Text(0.4740740740740741, 0.029411764705882353, 'entropy = 0.0\\nsamples = 2\\nvalue = [0, 0, 0, 2, 0, 0]'),\n",
                            " Text(0.4888888888888889, 0.029411764705882353, 'entropy = 0.0\\nsamples = 1\\nvalue = [0, 0, 1, 0, 0, 0]'),\n",
                            " Text(0.4962962962962963, 0.08823529411764706, 'entropy = 0.0\\nsamples = 6\\nvalue = [0, 0, 6, 0, 0, 0]'),\n",
                            " Text(0.5037037037037037, 0.14705882352941177, 'entropy = 0.0\\nsamples = 2\\nvalue = [0, 0, 0, 2, 0, 0]'),\n",
                            " Text(0.5259259259259259, 0.20588235294117646, 'X[8] <= 37.0\\nentropy = 1.0\\nsamples = 2\\nvalue = [0, 1, 0, 1, 0, 0]'),\n",
                            " Text(0.5185185185185185, 0.14705882352941177, 'entropy = 0.0\\nsamples = 1\\nvalue = [0, 0, 0, 1, 0, 0]'),\n",
                            " Text(0.5333333333333333, 0.14705882352941177, 'entropy = 0.0\\nsamples = 1\\nvalue = [0, 1, 0, 0, 0, 0]'),\n",
                            " Text(0.48148148148148145, 0.38235294117647056, 'entropy = 0.0\\nsamples = 5\\nvalue = [0, 5, 0, 0, 0, 0]'),\n",
                            " Text(0.5407407407407407, 0.4411764705882353, 'X[6] <= 1.804\\nentropy = 0.994\\nsamples = 44\\nvalue = [0, 0, 20, 24, 0, 0]'),\n",
                            " Text(0.5333333333333333, 0.38235294117647056, 'entropy = 0.0\\nsamples = 13\\nvalue = [0, 0, 13, 0, 0, 0]'),\n",
                            " Text(0.5481481481481482, 0.38235294117647056, 'X[8] <= 32.5\\nentropy = 0.771\\nsamples = 31\\nvalue = [0, 0, 7, 24, 0, 0]'),\n",
                            " Text(0.5407407407407407, 0.3235294117647059, 'entropy = 0.0\\nsamples = 13\\nvalue = [0, 0, 0, 13, 0, 0]'),\n",
                            " Text(0.5555555555555556, 0.3235294117647059, 'X[1] <= 0.191\\nentropy = 0.964\\nsamples = 18\\nvalue = [0, 0, 7, 11, 0, 0]'),\n",
                            " Text(0.5481481481481482, 0.2647058823529412, 'entropy = 0.0\\nsamples = 7\\nvalue = [0, 0, 0, 7, 0, 0]'),\n",
                            " Text(0.562962962962963, 0.2647058823529412, 'X[5] <= 0.072\\nentropy = 0.946\\nsamples = 11\\nvalue = [0, 0, 7, 4, 0, 0]'),\n",
                            " Text(0.5555555555555556, 0.20588235294117646, 'X[6] <= 2.036\\nentropy = 0.918\\nsamples = 6\\nvalue = [0, 0, 2, 4, 0, 0]'),\n",
                            " Text(0.5481481481481482, 0.14705882352941177, 'entropy = 0.0\\nsamples = 2\\nvalue = [0, 0, 2, 0, 0, 0]'),\n",
                            " Text(0.562962962962963, 0.14705882352941177, 'entropy = 0.0\\nsamples = 4\\nvalue = [0, 0, 0, 4, 0, 0]'),\n",
                            " Text(0.5703703703703704, 0.20588235294117646, 'entropy = 0.0\\nsamples = 5\\nvalue = [0, 0, 5, 0, 0, 0]'),\n",
                            " Text(0.5222222222222223, 0.6176470588235294, 'X[6] <= 3.183\\nentropy = 0.779\\nsamples = 13\\nvalue = [0, 0, 0, 10, 3, 0]'),\n",
                            " Text(0.5148148148148148, 0.5588235294117647, 'entropy = 0.0\\nsamples = 10\\nvalue = [0, 0, 0, 10, 0, 0]'),\n",
                            " Text(0.5296296296296297, 0.5588235294117647, 'entropy = 0.0\\nsamples = 3\\nvalue = [0, 0, 0, 0, 3, 0]'),\n",
                            " Text(0.5444444444444444, 0.6764705882352942, 'X[2] <= 0.662\\nentropy = 1.842\\nsamples = 7\\nvalue = [3, 1, 1, 0, 2, 0]'),\n",
                            " Text(0.5370370370370371, 0.6176470588235294, 'entropy = 0.0\\nsamples = 3\\nvalue = [3, 0, 0, 0, 0, 0]'),\n",
                            " Text(0.5518518518518518, 0.6176470588235294, 'X[2] <= 0.834\\nentropy = 1.5\\nsamples = 4\\nvalue = [0, 1, 1, 0, 2, 0]'),\n",
                            " Text(0.5444444444444444, 0.5588235294117647, 'X[8] <= 55.5\\nentropy = 1.0\\nsamples = 2\\nvalue = [0, 1, 1, 0, 0, 0]'),\n",
                            " Text(0.5370370370370371, 0.5, 'entropy = 0.0\\nsamples = 1\\nvalue = [0, 0, 1, 0, 0, 0]'),\n",
                            " Text(0.5518518518518518, 0.5, 'entropy = 0.0\\nsamples = 1\\nvalue = [0, 1, 0, 0, 0, 0]'),\n",
                            " Text(0.5592592592592592, 0.5588235294117647, 'entropy = 0.0\\nsamples = 2\\nvalue = [0, 0, 0, 0, 2, 0]'),\n",
                            " Text(0.6754629629629629, 0.7941176470588235, 'X[6] <= 2.665\\nentropy = 1.364\\nsamples = 141\\nvalue = [0, 2, 33, 89, 17, 0]'),\n",
                            " Text(0.6453703703703704, 0.7352941176470589, 'X[3] <= 0.321\\nentropy = 1.179\\nsamples = 129\\nvalue = [0, 2, 33, 88, 6, 0]'),\n",
                            " Text(0.6074074074074074, 0.6764705882352942, 'X[0] <= 1.187\\nentropy = 1.215\\nsamples = 44\\nvalue = [0, 2, 23, 19, 0, 0]'),\n",
                            " Text(0.5888888888888889, 0.6176470588235294, 'X[5] <= 0.144\\nentropy = 1.095\\nsamples = 28\\nvalue = [0, 2, 20, 6, 0, 0]'),\n",
                            " Text(0.5814814814814815, 0.5588235294117647, 'X[4] <= 0.071\\nentropy = 0.916\\nsamples = 25\\nvalue = [0, 2, 20, 3, 0, 0]'),\n",
                            " Text(0.5666666666666667, 0.5, 'X[3] <= 0.152\\nentropy = 0.985\\nsamples = 7\\nvalue = [0, 0, 4, 3, 0, 0]'),\n",
                            " Text(0.5592592592592592, 0.4411764705882353, 'entropy = 0.0\\nsamples = 3\\nvalue = [0, 0, 3, 0, 0, 0]'),\n",
                            " Text(0.5740740740740741, 0.4411764705882353, 'X[8] <= 42.5\\nentropy = 0.811\\nsamples = 4\\nvalue = [0, 0, 1, 3, 0, 0]'),\n",
                            " Text(0.5666666666666667, 0.38235294117647056, 'entropy = 0.0\\nsamples = 1\\nvalue = [0, 0, 1, 0, 0, 0]'),\n",
                            " Text(0.5814814814814815, 0.38235294117647056, 'entropy = 0.0\\nsamples = 3\\nvalue = [0, 0, 0, 3, 0, 0]'),\n",
                            " Text(0.5962962962962963, 0.5, 'X[8] <= 21.0\\nentropy = 0.503\\nsamples = 18\\nvalue = [0, 2, 16, 0, 0, 0]'),\n",
                            " Text(0.5888888888888889, 0.4411764705882353, 'entropy = 0.0\\nsamples = 1\\nvalue = [0, 1, 0, 0, 0, 0]'),\n",
                            " Text(0.6037037037037037, 0.4411764705882353, 'X[5] <= 0.009\\nentropy = 0.323\\nsamples = 17\\nvalue = [0, 1, 16, 0, 0, 0]'),\n",
                            " Text(0.5962962962962963, 0.38235294117647056, 'X[5] <= 0.005\\nentropy = 1.0\\nsamples = 2\\nvalue = [0, 1, 1, 0, 0, 0]'),\n",
                            " Text(0.5888888888888889, 0.3235294117647059, 'entropy = 0.0\\nsamples = 1\\nvalue = [0, 0, 1, 0, 0, 0]'),\n",
                            " Text(0.6037037037037037, 0.3235294117647059, 'entropy = 0.0\\nsamples = 1\\nvalue = [0, 1, 0, 0, 0, 0]'),\n",
                            " Text(0.6111111111111112, 0.38235294117647056, 'entropy = 0.0\\nsamples = 15\\nvalue = [0, 0, 15, 0, 0, 0]'),\n",
                            " Text(0.5962962962962963, 0.5588235294117647, 'entropy = 0.0\\nsamples = 3\\nvalue = [0, 0, 0, 3, 0, 0]'),\n",
                            " Text(0.6259259259259259, 0.6176470588235294, 'X[2] <= 0.702\\nentropy = 0.696\\nsamples = 16\\nvalue = [0, 0, 3, 13, 0, 0]'),\n",
                            " Text(0.6185185185185185, 0.5588235294117647, 'X[2] <= 0.661\\nentropy = 1.0\\nsamples = 6\\nvalue = [0, 0, 3, 3, 0, 0]'),\n",
                            " Text(0.6111111111111112, 0.5, 'entropy = 0.0\\nsamples = 3\\nvalue = [0, 0, 0, 3, 0, 0]'),\n",
                            " Text(0.6259259259259259, 0.5, 'entropy = 0.0\\nsamples = 3\\nvalue = [0, 0, 3, 0, 0, 0]'),\n",
                            " Text(0.6333333333333333, 0.5588235294117647, 'entropy = 0.0\\nsamples = 10\\nvalue = [0, 0, 0, 10, 0, 0]'),\n",
                            " Text(0.6833333333333333, 0.6764705882352942, 'X[5] <= 0.025\\nentropy = 0.877\\nsamples = 85\\nvalue = [0, 0, 10, 69, 6, 0]'),\n",
                            " Text(0.6555555555555556, 0.6176470588235294, 'X[8] <= 56.0\\nentropy = 0.954\\nsamples = 8\\nvalue = [0, 0, 5, 3, 0, 0]'),\n",
                            " Text(0.6481481481481481, 0.5588235294117647, 'X[5] <= 0.019\\nentropy = 0.811\\nsamples = 4\\nvalue = [0, 0, 1, 3, 0, 0]'),\n",
                            " Text(0.6407407407407407, 0.5, 'entropy = 0.0\\nsamples = 3\\nvalue = [0, 0, 0, 3, 0, 0]'),\n",
                            " Text(0.6555555555555556, 0.5, 'entropy = 0.0\\nsamples = 1\\nvalue = [0, 0, 1, 0, 0, 0]'),\n",
                            " Text(0.662962962962963, 0.5588235294117647, 'entropy = 0.0\\nsamples = 4\\nvalue = [0, 0, 4, 0, 0, 0]'),\n",
                            " Text(0.7111111111111111, 0.6176470588235294, 'X[2] <= 0.859\\nentropy = 0.734\\nsamples = 77\\nvalue = [0, 0, 5, 66, 6, 0]'),\n",
                            " Text(0.6851851851851852, 0.5588235294117647, 'X[2] <= 0.582\\nentropy = 0.463\\nsamples = 51\\nvalue = [0, 0, 5, 46, 0, 0]'),\n",
                            " Text(0.6703703703703704, 0.5, 'X[5] <= 0.113\\nentropy = 1.0\\nsamples = 6\\nvalue = [0, 0, 3, 3, 0, 0]'),\n",
                            " Text(0.662962962962963, 0.4411764705882353, 'entropy = 0.0\\nsamples = 3\\nvalue = [0, 0, 0, 3, 0, 0]'),\n",
                            " Text(0.6777777777777778, 0.4411764705882353, 'entropy = 0.0\\nsamples = 3\\nvalue = [0, 0, 3, 0, 0, 0]'),\n",
                            " Text(0.7, 0.5, 'X[6] <= 1.47\\nentropy = 0.262\\nsamples = 45\\nvalue = [0, 0, 2, 43, 0, 0]'),\n",
                            " Text(0.6925925925925925, 0.4411764705882353, 'X[6] <= 1.316\\nentropy = 0.544\\nsamples = 16\\nvalue = [0, 0, 2, 14, 0, 0]'),\n",
                            " Text(0.6851851851851852, 0.38235294117647056, 'X[5] <= 0.042\\nentropy = 0.353\\nsamples = 15\\nvalue = [0, 0, 1, 14, 0, 0]'),\n",
                            " Text(0.6777777777777778, 0.3235294117647059, 'X[0] <= 1.149\\nentropy = 1.0\\nsamples = 2\\nvalue = [0, 0, 1, 1, 0, 0]'),\n",
                            " Text(0.6703703703703704, 0.2647058823529412, 'entropy = 0.0\\nsamples = 1\\nvalue = [0, 0, 1, 0, 0, 0]'),\n",
                            " Text(0.6851851851851852, 0.2647058823529412, 'entropy = 0.0\\nsamples = 1\\nvalue = [0, 0, 0, 1, 0, 0]'),\n",
                            " Text(0.6925925925925925, 0.3235294117647059, 'entropy = 0.0\\nsamples = 13\\nvalue = [0, 0, 0, 13, 0, 0]'),\n",
                            " Text(0.7, 0.38235294117647056, 'entropy = 0.0\\nsamples = 1\\nvalue = [0, 0, 1, 0, 0, 0]'),\n",
                            " Text(0.7074074074074074, 0.4411764705882353, 'entropy = 0.0\\nsamples = 29\\nvalue = [0, 0, 0, 29, 0, 0]'),\n",
                            " Text(0.737037037037037, 0.5588235294117647, 'X[5] <= 0.139\\nentropy = 0.779\\nsamples = 26\\nvalue = [0, 0, 0, 20, 6, 0]'),\n",
                            " Text(0.7296296296296296, 0.5, 'X[2] <= 0.867\\nentropy = 0.439\\nsamples = 22\\nvalue = [0, 0, 0, 20, 2, 0]'),\n",
                            " Text(0.7222222222222222, 0.4411764705882353, 'entropy = 0.0\\nsamples = 1\\nvalue = [0, 0, 0, 0, 1, 0]'),\n",
                            " Text(0.737037037037037, 0.4411764705882353, 'X[5] <= 0.081\\nentropy = 0.276\\nsamples = 21\\nvalue = [0, 0, 0, 20, 1, 0]'),\n",
                            " Text(0.7296296296296296, 0.38235294117647056, 'entropy = 0.0\\nsamples = 18\\nvalue = [0, 0, 0, 18, 0, 0]'),\n",
                            " Text(0.7444444444444445, 0.38235294117647056, 'X[3] <= 0.398\\nentropy = 0.918\\nsamples = 3\\nvalue = [0, 0, 0, 2, 1, 0]'),\n",
                            " Text(0.737037037037037, 0.3235294117647059, 'entropy = 0.0\\nsamples = 1\\nvalue = [0, 0, 0, 0, 1, 0]'),\n",
                            " Text(0.7518518518518519, 0.3235294117647059, 'entropy = 0.0\\nsamples = 2\\nvalue = [0, 0, 0, 2, 0, 0]'),\n",
                            " Text(0.7444444444444445, 0.5, 'entropy = 0.0\\nsamples = 4\\nvalue = [0, 0, 0, 0, 4, 0]'),\n",
                            " Text(0.7055555555555556, 0.7352941176470589, 'X[4] <= 0.076\\nentropy = 0.414\\nsamples = 12\\nvalue = [0, 0, 0, 1, 11, 0]'),\n",
                            " Text(0.6981481481481482, 0.6764705882352942, 'entropy = 0.0\\nsamples = 1\\nvalue = [0, 0, 0, 1, 0, 0]'),\n",
                            " Text(0.7129629629629629, 0.6764705882352942, 'entropy = 0.0\\nsamples = 11\\nvalue = [0, 0, 0, 0, 11, 0]'),\n",
                            " Text(0.8564814814814815, 0.9117647058823529, 'X[4] <= 0.233\\nentropy = 1.275\\nsamples = 118\\nvalue = [0, 0, 1, 20, 80, 17]'),\n",
                            " Text(0.7851851851851852, 0.8529411764705882, 'X[5] <= 0.204\\nentropy = 1.475\\nsamples = 34\\nvalue = [0, 0, 1, 18, 12, 3]'),\n",
                            " Text(0.7555555555555555, 0.7941176470588235, 'X[2] <= 1.018\\nentropy = 0.614\\nsamples = 18\\nvalue = [0, 0, 1, 16, 1, 0]'),\n",
                            " Text(0.7407407407407407, 0.7352941176470589, 'X[4] <= 0.092\\nentropy = 0.337\\nsamples = 16\\nvalue = [0, 0, 1, 15, 0, 0]'),\n",
                            " Text(0.7333333333333333, 0.6764705882352942, 'X[3] <= 0.432\\nentropy = 1.0\\nsamples = 2\\nvalue = [0, 0, 1, 1, 0, 0]'),\n",
                            " Text(0.725925925925926, 0.6176470588235294, 'entropy = 0.0\\nsamples = 1\\nvalue = [0, 0, 0, 1, 0, 0]'),\n",
                            " Text(0.7407407407407407, 0.6176470588235294, 'entropy = 0.0\\nsamples = 1\\nvalue = [0, 0, 1, 0, 0, 0]'),\n",
                            " Text(0.7481481481481481, 0.6764705882352942, 'entropy = 0.0\\nsamples = 14\\nvalue = [0, 0, 0, 14, 0, 0]'),\n",
                            " Text(0.7703703703703704, 0.7352941176470589, 'X[6] <= 0.743\\nentropy = 1.0\\nsamples = 2\\nvalue = [0, 0, 0, 1, 1, 0]'),\n",
                            " Text(0.762962962962963, 0.6764705882352942, 'entropy = 0.0\\nsamples = 1\\nvalue = [0, 0, 0, 0, 1, 0]'),\n",
                            " Text(0.7777777777777778, 0.6764705882352942, 'entropy = 0.0\\nsamples = 1\\nvalue = [0, 0, 0, 1, 0, 0]'),\n",
                            " Text(0.8148148148148148, 0.7941176470588235, 'X[8] <= 83.5\\nentropy = 1.199\\nsamples = 16\\nvalue = [0, 0, 0, 2, 11, 3]'),\n",
                            " Text(0.8, 0.7352941176470589, 'X[4] <= 0.232\\nentropy = 0.414\\nsamples = 12\\nvalue = [0, 0, 0, 1, 11, 0]'),\n",
                            " Text(0.7925925925925926, 0.6764705882352942, 'entropy = 0.0\\nsamples = 11\\nvalue = [0, 0, 0, 0, 11, 0]'),\n",
                            " Text(0.8074074074074075, 0.6764705882352942, 'entropy = 0.0\\nsamples = 1\\nvalue = [0, 0, 0, 1, 0, 0]'),\n",
                            " Text(0.8296296296296296, 0.7352941176470589, 'X[0] <= 1.43\\nentropy = 0.811\\nsamples = 4\\nvalue = [0, 0, 0, 1, 0, 3]'),\n",
                            " Text(0.8222222222222222, 0.6764705882352942, 'entropy = 0.0\\nsamples = 3\\nvalue = [0, 0, 0, 0, 0, 3]'),\n",
                            " Text(0.837037037037037, 0.6764705882352942, 'entropy = 0.0\\nsamples = 1\\nvalue = [0, 0, 0, 1, 0, 0]'),\n",
                            " Text(0.9277777777777778, 0.8529411764705882, 'X[5] <= 0.398\\nentropy = 0.806\\nsamples = 84\\nvalue = [0, 0, 0, 2, 68, 14]'),\n",
                            " Text(0.8925925925925926, 0.7941176470588235, 'X[3] <= 0.626\\nentropy = 0.498\\nsamples = 64\\nvalue = [0, 0, 0, 0, 57, 7]'),\n",
                            " Text(0.8666666666666667, 0.7352941176470589, 'X[6] <= 2.78\\nentropy = 0.246\\nsamples = 49\\nvalue = [0, 0, 0, 0, 47, 2]'),\n",
                            " Text(0.8518518518518519, 0.6764705882352942, 'X[2] <= 1.027\\nentropy = 0.149\\nsamples = 47\\nvalue = [0, 0, 0, 0, 46, 1]'),\n",
                            " Text(0.8444444444444444, 0.6176470588235294, 'entropy = 0.0\\nsamples = 44\\nvalue = [0, 0, 0, 0, 44, 0]'),\n",
                            " Text(0.8592592592592593, 0.6176470588235294, 'X[0] <= 1.47\\nentropy = 0.918\\nsamples = 3\\nvalue = [0, 0, 0, 0, 2, 1]'),\n",
                            " Text(0.8518518518518519, 0.5588235294117647, 'entropy = 0.0\\nsamples = 2\\nvalue = [0, 0, 0, 0, 2, 0]'),\n",
                            " Text(0.8666666666666667, 0.5588235294117647, 'entropy = 0.0\\nsamples = 1\\nvalue = [0, 0, 0, 0, 0, 1]'),\n",
                            " Text(0.8814814814814815, 0.6764705882352942, 'X[1] <= 1.045\\nentropy = 1.0\\nsamples = 2\\nvalue = [0, 0, 0, 0, 1, 1]'),\n",
                            " Text(0.8740740740740741, 0.6176470588235294, 'entropy = 0.0\\nsamples = 1\\nvalue = [0, 0, 0, 0, 1, 0]'),\n",
                            " Text(0.8888888888888888, 0.6176470588235294, 'entropy = 0.0\\nsamples = 1\\nvalue = [0, 0, 0, 0, 0, 1]'),\n",
                            " Text(0.9185185185185185, 0.7352941176470589, 'X[1] <= 1.362\\nentropy = 0.918\\nsamples = 15\\nvalue = [0, 0, 0, 0, 10, 5]'),\n",
                            " Text(0.9111111111111111, 0.6764705882352942, 'X[3] <= 0.661\\nentropy = 0.65\\nsamples = 12\\nvalue = [0, 0, 0, 0, 10, 2]'),\n",
                            " Text(0.9037037037037037, 0.6176470588235294, 'entropy = 0.0\\nsamples = 9\\nvalue = [0, 0, 0, 0, 9, 0]'),\n",
                            " Text(0.9185185185185185, 0.6176470588235294, 'X[8] <= 85.5\\nentropy = 0.918\\nsamples = 3\\nvalue = [0, 0, 0, 0, 1, 2]'),\n",
                            " Text(0.9111111111111111, 0.5588235294117647, 'entropy = 0.0\\nsamples = 2\\nvalue = [0, 0, 0, 0, 0, 2]'),\n",
                            " Text(0.9259259259259259, 0.5588235294117647, 'entropy = 0.0\\nsamples = 1\\nvalue = [0, 0, 0, 0, 1, 0]'),\n",
                            " Text(0.9259259259259259, 0.6764705882352942, 'entropy = 0.0\\nsamples = 3\\nvalue = [0, 0, 0, 0, 0, 3]'),\n",
                            " Text(0.9629629629629629, 0.7941176470588235, 'X[6] <= 0.608\\nentropy = 1.337\\nsamples = 20\\nvalue = [0, 0, 0, 2, 11, 7]'),\n",
                            " Text(0.9481481481481482, 0.7352941176470589, 'X[8] <= 86.5\\nentropy = 1.0\\nsamples = 4\\nvalue = [0, 0, 0, 2, 0, 2]'),\n",
                            " Text(0.9407407407407408, 0.6764705882352942, 'entropy = 0.0\\nsamples = 2\\nvalue = [0, 0, 0, 2, 0, 0]'),\n",
                            " Text(0.9555555555555556, 0.6764705882352942, 'entropy = 0.0\\nsamples = 2\\nvalue = [0, 0, 0, 0, 0, 2]'),\n",
                            " Text(0.9777777777777777, 0.7352941176470589, 'X[6] <= 2.298\\nentropy = 0.896\\nsamples = 16\\nvalue = [0, 0, 0, 0, 11, 5]'),\n",
                            " Text(0.9703703703703703, 0.6764705882352942, 'entropy = 0.0\\nsamples = 6\\nvalue = [0, 0, 0, 0, 6, 0]'),\n",
                            " Text(0.9851851851851852, 0.6764705882352942, 'X[4] <= 0.362\\nentropy = 1.0\\nsamples = 10\\nvalue = [0, 0, 0, 0, 5, 5]'),\n",
                            " Text(0.9777777777777777, 0.6176470588235294, 'X[4] <= 0.262\\nentropy = 0.863\\nsamples = 7\\nvalue = [0, 0, 0, 0, 2, 5]'),\n",
                            " Text(0.9703703703703703, 0.5588235294117647, 'X[1] <= 0.567\\nentropy = 0.918\\nsamples = 3\\nvalue = [0, 0, 0, 0, 2, 1]'),\n",
                            " Text(0.9629629629629629, 0.5, 'entropy = 0.0\\nsamples = 1\\nvalue = [0, 0, 0, 0, 0, 1]'),\n",
                            " Text(0.9777777777777777, 0.5, 'entropy = 0.0\\nsamples = 2\\nvalue = [0, 0, 0, 0, 2, 0]'),\n",
                            " Text(0.9851851851851852, 0.5588235294117647, 'entropy = 0.0\\nsamples = 4\\nvalue = [0, 0, 0, 0, 0, 4]'),\n",
                            " Text(0.9925925925925926, 0.6176470588235294, 'entropy = 0.0\\nsamples = 3\\nvalue = [0, 0, 0, 0, 3, 0]')]"
                        ]
                    },
                    "execution_count": 108,
                    "metadata": {},
                    "output_type": "execute_result"
                }
            ],
            "source": [
                "treeFig"
            ]
        },
        {
            "cell_type": "code",
            "execution_count": 109,
            "metadata": {},
            "outputs": [
                {
                    "name": "stdout",
                    "output_type": "stream",
                    "text": [
                        "normalized entropy value: 0.595\n",
                        "average accuracy score: 0.653\n"
                    ]
                }
            ],
            "source": [
                "print('normalized entropy value: %.3f'% normalizedE)\n",
                "print('average accuracy score: %.3f' % avg_score)\n"
            ]
        },
        {
            "cell_type": "code",
            "execution_count": 110,
            "metadata": {},
            "outputs": [
                {
                    "data": {
                        "text/plain": [
                            "Index(['Country', 'happiness_score', 'gdp_per_capita', 'family', 'health',\n",
                            "       'freedom', 'generosity', 'government_trust', 'dystopia_residual',\n",
                            "       'continent', 'Year', 'cpi_score'],\n",
                            "      dtype='object')"
                        ]
                    },
                    "execution_count": 110,
                    "metadata": {},
                    "output_type": "execute_result"
                }
            ],
            "source": [
                "df.columns"
            ]
        },
        {
            "cell_type": "code",
            "execution_count": 111,
            "metadata": {},
            "outputs": [],
            "source": [
                "y = y.astype(str)"
            ]
        },
        {
            "cell_type": "code",
            "execution_count": 112,
            "metadata": {},
            "outputs": [
                {
                    "data": {
                        "text/plain": [
                            "'CustomDataset/Happiness_decision_tree.pdf'"
                        ]
                    },
                    "execution_count": 112,
                    "metadata": {},
                    "output_type": "execute_result"
                }
            ],
            "source": [
                "# output visual (can be visualized with visual code)\n",
                "dot_data = tree.export_graphviz(model, out_file=None,\n",
                "                    feature_names=['gdp_per_capita', 'family', 'health',\n",
                "       'freedom', 'generosity', 'government_trust', 'dystopia_residual',\n",
                "        'Year', 'cpi_score'],\n",
                "                    class_names=sorted(y.unique()),\n",
                "                    filled=True)\n",
                "\n",
                "graph = graphviz.Source(dot_data)\n",
                "graph.render(\"Happiness_decision_tree\",directory='CustomDataset')"
            ]
        },
        {
            "attachments": {},
            "cell_type": "markdown",
            "metadata": {},
            "source": [
                "\n",
                "\n",
                "---\n",
                "\n",
                "# Observations\n",
                "Did you have to clean your dataset? If yes, desribe what you did.\n",
                "\n"
            ]
        },
        {
            "attachments": {},
            "cell_type": "markdown",
            "metadata": {},
            "source": [
                "I delete the column: social support as it is the same for all rows (countries).\n",
                "I also round the happiness score for the decision tree"
            ]
        },
        {
            "attachments": {},
            "cell_type": "markdown",
            "metadata": {},
            "source": [
                "\n",
                "What kinds of variables did you find in your dataset (i.e. categorical, continuous/discrete numerical)? List some examples of each kind you found."
            ]
        },
        {
            "attachments": {},
            "cell_type": "markdown",
            "metadata": {},
            "source": [
                "All types in my dataset:\n",
                "- categorical: country, continent\n",
                "- discrete: year, cpi score\n",
                "- continuous: the rest"
            ]
        }
    ],
    "metadata": {
        "kernelspec": {
            "display_name": "Python 3 (ipykernel)",
            "language": "python",
            "name": "python3"
        },
        "language_info": {
            "codemirror_mode": {
                "name": "ipython",
                "version": 3
            },
            "file_extension": ".py",
            "mimetype": "text/x-python",
            "name": "python",
            "nbconvert_exporter": "python",
            "pygments_lexer": "ipython3",
            "version": "3.9.16"
        }
    },
    "nbformat": 4,
    "nbformat_minor": 2
}
